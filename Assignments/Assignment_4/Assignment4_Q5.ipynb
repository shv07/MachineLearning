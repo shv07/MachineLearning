{
 "cells": [
  {
   "cell_type": "markdown",
   "metadata": {},
   "source": [
    "## Question 5, a-d"
   ]
  },
  {
   "cell_type": "code",
   "execution_count": 234,
   "metadata": {},
   "outputs": [],
   "source": [
    "from sklearn.linear_model import Ridge, RidgeCV\n",
    "from sklearn.linear_model import Lasso, LassoCV\n",
    "import numpy as np\n",
    "import matplotlib.pyplot as plt\n",
    "import pandas as pd\n",
    "from sklearn.model_selection import train_test_split\n",
    "from sklearn.model_selection import cross_validate\n",
    "from sklearn.metrics import mean_squared_error\n",
    "#references: https://scikit-learn.org/stable/modules/generated/sklearn.linear_model.Ridge.html\n",
    "#https://scikit-learn.org/stable/modules/generated/sklearn.linear_model.RidgeCV.html#sklearn.linear_model.RidgeCV            \n"
   ]
  },
  {
   "cell_type": "code",
   "execution_count": null,
   "metadata": {},
   "outputs": [],
   "source": []
  },
  {
   "cell_type": "code",
   "execution_count": 235,
   "metadata": {},
   "outputs": [
    {
     "name": "stdout",
     "output_type": "stream",
     "text": [
      "(310, 6)\n",
      "(104, 6)\n",
      "(310, 1)\n",
      "(104, 1)\n"
     ]
    }
   ],
   "source": [
    "#loading data\n",
    "filname='Real estate valuation data set.xlsx'\n",
    "df=pd.read_excel(filname)\n",
    "data=np.array(df)\n",
    "train_X,test_X,train_Y, test_Y = train_test_split(data[:,1:7],data[:,-1])\n",
    "train_Y=np.array([train_Y]).T\n",
    "test_Y=np.array([test_Y]).T\n",
    "for i in [train_X,test_X,train_Y, test_Y]:      #verifying  the shapes compatibility\n",
    "    print (i.shape)"
   ]
  },
  {
   "cell_type": "code",
   "execution_count": 236,
   "metadata": {},
   "outputs": [
    {
     "data": {
      "text/html": [
       "<div>\n",
       "<style scoped>\n",
       "    .dataframe tbody tr th:only-of-type {\n",
       "        vertical-align: middle;\n",
       "    }\n",
       "\n",
       "    .dataframe tbody tr th {\n",
       "        vertical-align: top;\n",
       "    }\n",
       "\n",
       "    .dataframe thead th {\n",
       "        text-align: right;\n",
       "    }\n",
       "</style>\n",
       "<table border=\"1\" class=\"dataframe\">\n",
       "  <thead>\n",
       "    <tr style=\"text-align: right;\">\n",
       "      <th></th>\n",
       "      <th>No</th>\n",
       "      <th>X1 transaction date</th>\n",
       "      <th>X2 house age</th>\n",
       "      <th>X3 distance to the nearest MRT station</th>\n",
       "      <th>X4 number of convenience stores</th>\n",
       "      <th>X5 latitude</th>\n",
       "      <th>X6 longitude</th>\n",
       "      <th>Y house price of unit area</th>\n",
       "    </tr>\n",
       "  </thead>\n",
       "  <tbody>\n",
       "    <tr>\n",
       "      <th>0</th>\n",
       "      <td>1</td>\n",
       "      <td>2012.916667</td>\n",
       "      <td>32.0</td>\n",
       "      <td>84.87882</td>\n",
       "      <td>10</td>\n",
       "      <td>24.98298</td>\n",
       "      <td>121.54024</td>\n",
       "      <td>37.9</td>\n",
       "    </tr>\n",
       "    <tr>\n",
       "      <th>1</th>\n",
       "      <td>2</td>\n",
       "      <td>2012.916667</td>\n",
       "      <td>19.5</td>\n",
       "      <td>306.59470</td>\n",
       "      <td>9</td>\n",
       "      <td>24.98034</td>\n",
       "      <td>121.53951</td>\n",
       "      <td>42.2</td>\n",
       "    </tr>\n",
       "    <tr>\n",
       "      <th>2</th>\n",
       "      <td>3</td>\n",
       "      <td>2013.583333</td>\n",
       "      <td>13.3</td>\n",
       "      <td>561.98450</td>\n",
       "      <td>5</td>\n",
       "      <td>24.98746</td>\n",
       "      <td>121.54391</td>\n",
       "      <td>47.3</td>\n",
       "    </tr>\n",
       "    <tr>\n",
       "      <th>3</th>\n",
       "      <td>4</td>\n",
       "      <td>2013.500000</td>\n",
       "      <td>13.3</td>\n",
       "      <td>561.98450</td>\n",
       "      <td>5</td>\n",
       "      <td>24.98746</td>\n",
       "      <td>121.54391</td>\n",
       "      <td>54.8</td>\n",
       "    </tr>\n",
       "    <tr>\n",
       "      <th>4</th>\n",
       "      <td>5</td>\n",
       "      <td>2012.833333</td>\n",
       "      <td>5.0</td>\n",
       "      <td>390.56840</td>\n",
       "      <td>5</td>\n",
       "      <td>24.97937</td>\n",
       "      <td>121.54245</td>\n",
       "      <td>43.1</td>\n",
       "    </tr>\n",
       "    <tr>\n",
       "      <th>5</th>\n",
       "      <td>6</td>\n",
       "      <td>2012.666667</td>\n",
       "      <td>7.1</td>\n",
       "      <td>2175.03000</td>\n",
       "      <td>3</td>\n",
       "      <td>24.96305</td>\n",
       "      <td>121.51254</td>\n",
       "      <td>32.1</td>\n",
       "    </tr>\n",
       "    <tr>\n",
       "      <th>6</th>\n",
       "      <td>7</td>\n",
       "      <td>2012.666667</td>\n",
       "      <td>34.5</td>\n",
       "      <td>623.47310</td>\n",
       "      <td>7</td>\n",
       "      <td>24.97933</td>\n",
       "      <td>121.53642</td>\n",
       "      <td>40.3</td>\n",
       "    </tr>\n",
       "    <tr>\n",
       "      <th>7</th>\n",
       "      <td>8</td>\n",
       "      <td>2013.416667</td>\n",
       "      <td>20.3</td>\n",
       "      <td>287.60250</td>\n",
       "      <td>6</td>\n",
       "      <td>24.98042</td>\n",
       "      <td>121.54228</td>\n",
       "      <td>46.7</td>\n",
       "    </tr>\n",
       "    <tr>\n",
       "      <th>8</th>\n",
       "      <td>9</td>\n",
       "      <td>2013.500000</td>\n",
       "      <td>31.7</td>\n",
       "      <td>5512.03800</td>\n",
       "      <td>1</td>\n",
       "      <td>24.95095</td>\n",
       "      <td>121.48458</td>\n",
       "      <td>18.8</td>\n",
       "    </tr>\n",
       "    <tr>\n",
       "      <th>9</th>\n",
       "      <td>10</td>\n",
       "      <td>2013.416667</td>\n",
       "      <td>17.9</td>\n",
       "      <td>1783.18000</td>\n",
       "      <td>3</td>\n",
       "      <td>24.96731</td>\n",
       "      <td>121.51486</td>\n",
       "      <td>22.1</td>\n",
       "    </tr>\n",
       "  </tbody>\n",
       "</table>\n",
       "</div>"
      ],
      "text/plain": [
       "   No  X1 transaction date  X2 house age  \\\n",
       "0   1          2012.916667          32.0   \n",
       "1   2          2012.916667          19.5   \n",
       "2   3          2013.583333          13.3   \n",
       "3   4          2013.500000          13.3   \n",
       "4   5          2012.833333           5.0   \n",
       "5   6          2012.666667           7.1   \n",
       "6   7          2012.666667          34.5   \n",
       "7   8          2013.416667          20.3   \n",
       "8   9          2013.500000          31.7   \n",
       "9  10          2013.416667          17.9   \n",
       "\n",
       "   X3 distance to the nearest MRT station  X4 number of convenience stores  \\\n",
       "0                                84.87882                               10   \n",
       "1                               306.59470                                9   \n",
       "2                               561.98450                                5   \n",
       "3                               561.98450                                5   \n",
       "4                               390.56840                                5   \n",
       "5                              2175.03000                                3   \n",
       "6                               623.47310                                7   \n",
       "7                               287.60250                                6   \n",
       "8                              5512.03800                                1   \n",
       "9                              1783.18000                                3   \n",
       "\n",
       "   X5 latitude  X6 longitude  Y house price of unit area  \n",
       "0     24.98298     121.54024                        37.9  \n",
       "1     24.98034     121.53951                        42.2  \n",
       "2     24.98746     121.54391                        47.3  \n",
       "3     24.98746     121.54391                        54.8  \n",
       "4     24.97937     121.54245                        43.1  \n",
       "5     24.96305     121.51254                        32.1  \n",
       "6     24.97933     121.53642                        40.3  \n",
       "7     24.98042     121.54228                        46.7  \n",
       "8     24.95095     121.48458                        18.8  \n",
       "9     24.96731     121.51486                        22.1  "
      ]
     },
     "execution_count": 236,
     "metadata": {},
     "output_type": "execute_result"
    }
   ],
   "source": [
    "df[:10]"
   ]
  },
  {
   "cell_type": "code",
   "execution_count": 237,
   "metadata": {},
   "outputs": [],
   "source": [
    "def normalize(X):\n",
    "    X_=[]\n",
    "    for i in range(len(X[0])):\n",
    "        X_.append(X[:,i]/X[:,i].max())\n",
    "    X_=np.array(X_).T\n",
    "    return X_\n",
    "def RMSE(y1,y2):\n",
    "    #calculating RMS\n",
    "    y1=np.transpose(y1)[0]\n",
    "    y2=np.transpose(y2)[0]\n",
    "    rmse=(sum(((y1-y2)**2))/len(y1))**0.5\n",
    "    return rmse\n",
    "train_X_=normalize(train_X)\n",
    "test_X_=normalize(test_X)\n"
   ]
  },
  {
   "cell_type": "code",
   "execution_count": 238,
   "metadata": {},
   "outputs": [
    {
     "name": "stdout",
     "output_type": "stream",
     "text": [
      "9.581745426042877\n",
      "9.499041935733802\n"
     ]
    }
   ],
   "source": [
    "clf_R=Ridge(alpha=0.1)\n",
    "clf_R.fit(train_X_,train_Y)\n",
    "y_R=clf_R.predict(test_X_)\n",
    "\n",
    "clf_L=Lasso(alpha=0.1)\n",
    "clf_L.fit(train_X_,train_Y)\n",
    "y_L=clf_L.predict(test_X_)\n",
    "\n",
    "y_R=np.reshape(y_R, test_Y.shape)\n",
    "y_L=np.reshape(y_L, test_Y.shape)\n",
    "print (RMSE(y_R, test_Y))\n",
    "print(RMSE(y_L, test_Y))"
   ]
  },
  {
   "cell_type": "code",
   "execution_count": null,
   "metadata": {},
   "outputs": [],
   "source": []
  },
  {
   "cell_type": "markdown",
   "metadata": {},
   "source": [
    "## 5 (a) Cross Validation Ridge"
   ]
  },
  {
   "cell_type": "code",
   "execution_count": 239,
   "metadata": {},
   "outputs": [
    {
     "name": "stdout",
     "output_type": "stream",
     "text": [
      "Best Alpha= 0.9653488644416268\n",
      "rmse =  11947.968237097797\n",
      "best model Theta Vector: [ 5.95823419e+00 -2.79383731e-01 -5.48911258e-03  1.15864239e+00\n",
      "  7.46277526e+00 -1.78337236e+00]\n"
     ]
    }
   ],
   "source": [
    "lmda=10**np.linspace(6,-2,50)*0.5\n",
    "ridge=Ridge(alpha=None)\n",
    "thetas=[]\n",
    "for i in lmda:\n",
    "    ridge.set_params(alpha=i)\n",
    "    ridge.fit(train_X_, train_Y)\n",
    "    thetas.append(ridge.coef_)\n",
    "thetas=np.reshape(thetas,(50,6))\n",
    "#np.array(thetas).shape\n",
    "ridgecv = RidgeCV(alphas=lmda,cv=5)\n",
    "ridgecv.fit(train_X_, train_Y)\n",
    "ridge.set_params(alpha=ridgecv.alpha_)\n",
    "print(\"Best Alpha=\", ridgecv.alpha_)\n",
    "ridge.fit(train_X, train_Y.T[0])\n",
    "print(\"rmse = \",mean_squared_error(test_Y.T[0], ridge.predict(test_X_))**0.5)\n",
    "print(\"best model Theta Vector:\",ridge.coef_)"
   ]
  },
  {
   "cell_type": "code",
   "execution_count": null,
   "metadata": {},
   "outputs": [],
   "source": []
  },
  {
   "cell_type": "markdown",
   "metadata": {},
   "source": [
    "## 5 (b) Cross Validation Lasso"
   ]
  },
  {
   "cell_type": "code",
   "execution_count": 241,
   "metadata": {},
   "outputs": [
    {
     "data": {
      "text/plain": [
       "(50, 6)"
      ]
     },
     "execution_count": 241,
     "metadata": {},
     "output_type": "execute_result"
    }
   ],
   "source": [
    "lmda=10**np.linspace(6,-2,50)*0.5\n",
    "lasso=Lasso(max_iter=10000)\n",
    "thetas=[]\n",
    "for i in lmda:\n",
    "    lasso.set_params(alpha=i)\n",
    "    lasso.fit(train_X_, train_Y)\n",
    "    thetas.append(lasso.coef_)\n",
    "np.array(thetas).shape"
   ]
  },
  {
   "cell_type": "code",
   "execution_count": null,
   "metadata": {},
   "outputs": [],
   "source": []
  },
  {
   "cell_type": "code",
   "execution_count": 243,
   "metadata": {},
   "outputs": [
    {
     "name": "stdout",
     "output_type": "stream",
     "text": [
      "Best Alpha= 0.03275642784297761\n",
      "rmse =  11653.560131208718\n",
      "best model Theta Vector: [ 5.79399810e+00 -2.78330565e-01 -5.51567898e-03  1.15938363e+00\n",
      "  0.00000000e+00 -0.00000000e+00]\n"
     ]
    }
   ],
   "source": [
    "lassocv = LassoCV(alphas=lmda, cv=5, max_iter=10000)\n",
    "lassocv.fit(train_X_, train_Y.T[0])\n",
    "lasso.set_params(alpha=lassocv.alpha_)\n",
    "print(\"Best Alpha=\", lassocv.alpha_)\n",
    "lasso.fit(train_X, train_Y.T[0])\n",
    "print(\"rmse = \",mean_squared_error(test_Y.T[0], lasso.predict(test_X_))**0.5)\n",
    "print(\"best model Theta Vector:\",lasso.coef_)"
   ]
  },
  {
   "cell_type": "markdown",
   "metadata": {},
   "source": [
    "## 5(c) Regularisation Plot"
   ]
  },
  {
   "cell_type": "code",
   "execution_count": 248,
   "metadata": {},
   "outputs": [
    {
     "data": {
      "text/plain": [
       "Text(0.5,1,'Lasso Regularisation Plot')"
      ]
     },
     "execution_count": 248,
     "metadata": {},
     "output_type": "execute_result"
    },
    {
     "data": {
      "image/png": "[encoded data removed]",
      "text/plain": [
       "<Figure size 432x288 with 1 Axes>"
      ]
     },
     "metadata": {
      "needs_background": "light"
     },
     "output_type": "display_data"
    }
   ],
   "source": [
    "lmda=np.random.uniform(0,10,100)\n",
    "theta_L=[]\n",
    "theta_R=[]\n",
    "for i in lmda:\n",
    "    clf_R=Ridge(alpha=i)\n",
    "    clf_R.fit(train_X_,train_Y)\n",
    "    \n",
    "    clf_L=Lasso(alpha=i)\n",
    "    clf_L.fit(train_X_,train_Y)\n",
    "    \n",
    "    theta_L.append(clf_L.coef_)\n",
    "    theta_R.append(clf_R.coef_[0])\n",
    "theta_L=np.array(theta_L)\n",
    "theta_R=np.array(theta_R)\n",
    "[theta_L.shape, theta_R.shape]\n",
    "for i in range(len(theta_L[0])):\n",
    "    plt.scatter(lmda, theta_L[:,i], label=\"Theta \"+str(i))\n",
    "plt.xscale('log')\n",
    "plt.xlabel(\"Alpha\")\n",
    "plt.ylabel(\"Theta\")\n",
    "plt.legend()\n",
    "plt.title(\"Lasso Regularisation Plot\")"
   ]
  },
  {
   "cell_type": "code",
   "execution_count": 252,
   "metadata": {},
   "outputs": [
    {
     "data": {
      "text/plain": [
       "Text(0.5,1,'Ridge Regularisation Plot')"
      ]
     },
     "execution_count": 252,
     "metadata": {},
     "output_type": "execute_result"
    },
    {
     "data": {
      "image/png": "[encoded data removed]",
      "text/plain": [
       "<Figure size 432x288 with 1 Axes>"
      ]
     },
     "metadata": {
      "needs_background": "light"
     },
     "output_type": "display_data"
    }
   ],
   "source": [
    "for i in range(len(theta_R[0])):\n",
    "    plt.scatter(lmda, theta_R[:,i], label=\"Theta \"+str(i))\n",
    "plt.xscale('log')\n",
    "plt.xlabel(\"Alpha\")\n",
    "plt.ylabel(\"Theta\")\n",
    "plt.legend()\n",
    "plt.title(\"Ridge Regularisation Plot\")\n",
    "\n"
   ]
  },
  {
   "cell_type": "markdown",
   "metadata": {},
   "source": [
    "Most of the values of the variables are zero which denotes the sparsity of the matrix"
   ]
  },
  {
   "cell_type": "markdown",
   "metadata": {},
   "source": [
    "## 5(d) Error v/s Lambda for Ridge and Lasso"
   ]
  },
  {
   "cell_type": "code",
   "execution_count": 246,
   "metadata": {},
   "outputs": [
    {
     "data": {
      "image/png": "[encoded data removed]",
      "text/plain": [
       "<Figure size 432x288 with 1 Axes>"
      ]
     },
     "metadata": {
      "needs_background": "light"
     },
     "output_type": "display_data"
    }
   ],
   "source": [
    "lmda=np.random.uniform(0,50,100)\n",
    "\n",
    "rmse_R=[]\n",
    "rmse_R1=[]\n",
    "rmse_L=[]\n",
    "rmse_L1=[]\n",
    "\n",
    "split=int(0.8*len(data))\n",
    "train_new=data[:split]\n",
    "test_new=data[split:]\n",
    "train_X_new=train_new[:,1:-1]\n",
    "train_Y_new=train_new[:,-1:]\n",
    "test_X_new=test_new[:,1:-1]\n",
    "test_Y_new=test_new[:,-1:]\n",
    "\n",
    "train_X_new=normalize(train_X_new)\n",
    "test_X_new=normalize(test_X_new)\n",
    "\n",
    "for i in lmda:\n",
    "    clf_R=Ridge(alpha=i)\n",
    "    clf_R.fit(train_X_new,train_Y_new)\n",
    "    y_R=clf_R.predict(test_X_new)\n",
    "    y_R1=clf_R.predict(train_X_new)\n",
    "    \n",
    "    clf_L=Lasso(alpha=i)\n",
    "    clf_L.fit(train_X_new,train_Y_new)\n",
    "    y_L=clf_L.predict(test_X_new)\n",
    "    y_L1=clf_L.predict(train_X_new)\n",
    "    \n",
    "    y_R=np.reshape(y_R, test_Y_new.shape)\n",
    "    y_L=np.reshape(y_L, test_Y_new.shape)\n",
    "    y_R1=np.reshape(y_R1, train_Y_new.shape)\n",
    "    y_L1=np.reshape(y_L1, train_Y_new.shape)\n",
    "    \n",
    "    \n",
    "    rmse_R.append(RMSE(y_R,test_Y_new))\n",
    "    rmse_L.append(RMSE(y_L,test_Y_new))\n",
    "    rmse_R1.append(RMSE(y_R1,train_Y_new))\n",
    "    rmse_L1.append(RMSE(y_L1,train_Y_new))\n",
    "\n",
    "\n",
    "#plt.xscale('log')\n",
    "plt.scatter(lmda, rmse_R1, color='r', label=\"TRAIN\")\n",
    "plt.scatter(lmda, rmse_R, color='b', label=\"TEST\")\n",
    "plt.xlabel(\"Lambda\")\n",
    "plt.ylabel(\"RMSE\")\n",
    "plt.title(\"Error v/s Lambda for RIDGE\")\n",
    "plt.legend()\n",
    "plt.show()"
   ]
  },
  {
   "cell_type": "code",
   "execution_count": 247,
   "metadata": {},
   "outputs": [
    {
     "data": {
      "image/png": "[encoded data removed]",
      "text/plain": [
       "<Figure size 432x288 with 1 Axes>"
      ]
     },
     "metadata": {
      "needs_background": "light"
     },
     "output_type": "display_data"
    }
   ],
   "source": [
    "plt.scatter(lmda, rmse_L1, color='r', label=\"TRAIN\")\n",
    "plt.scatter(lmda, rmse_L, color='b', label=\"TEST\")\n",
    "plt.xlabel(\"Lambda\")\n",
    "plt.ylabel(\"RMSE\")\n",
    "plt.title(\"Error v/s Lambda for LASSO\")\n",
    "plt.legend()\n",
    "plt.show()"
   ]
  },
  {
   "cell_type": "code",
   "execution_count": null,
   "metadata": {},
   "outputs": [],
   "source": []
  },
  {
   "cell_type": "code",
   "execution_count": null,
   "metadata": {},
   "outputs": [],
   "source": []
  }
 ],
 "metadata": {
  "kernelspec": {
   "display_name": "Python 3",
   "language": "python",
   "name": "python3"
  },
  "language_info": {
   "codemirror_mode": {
    "name": "ipython",
    "version": 3
   },
   "file_extension": ".py",
   "mimetype": "text/x-python",
   "name": "python",
   "nbconvert_exporter": "python",
   "pygments_lexer": "ipython3",
   "version": "3.5.2"
  }
 },
 "nbformat": 4,
 "nbformat_minor": 2
}
