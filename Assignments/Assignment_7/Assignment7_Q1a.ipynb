{
 "cells": [
  {
   "cell_type": "markdown",
   "metadata": {},
   "source": [
    "## 1. (a) Implementing Hard Margin SVM classifiers primal and dual forms from scratch"
   ]
  },
  {
   "cell_type": "code",
   "execution_count": 128,
   "metadata": {},
   "outputs": [],
   "source": [
    "#references\n",
    "#https://www.cvxpy.org/examples/machine_learning/ridge_regression.html\n",
    "#https://www.machinelearningplus.com/plots/top-50-matplotlib-visualizations-the-master-plots-python/#2.-Bubble-plot-with-Encircling\n",
    "#(for encircle code)"
   ]
  },
  {
   "cell_type": "code",
   "execution_count": 129,
   "metadata": {},
   "outputs": [],
   "source": [
    "%matplotlib inline\n",
    "import cvxpy as cp\n",
    "import numpy as np\n",
    "import pandas as pd\n",
    "from sklearn import datasets\n",
    "import matplotlib.pyplot as plt\n",
    "import matplotlib\n",
    "plt.style.use('seaborn-whitegrid')\n",
    "from scipy.spatial import ConvexHull as ConvexHull"
   ]
  },
  {
   "cell_type": "code",
   "execution_count": 130,
   "metadata": {},
   "outputs": [],
   "source": [
    "data=datasets.load_iris()"
   ]
  },
  {
   "cell_type": "code",
   "execution_count": 131,
   "metadata": {},
   "outputs": [
    {
     "data": {
      "text/plain": [
       "['sepal length (cm)',\n",
       " 'sepal width (cm)',\n",
       " 'petal length (cm)',\n",
       " 'petal width (cm)']"
      ]
     },
     "execution_count": 131,
     "metadata": {},
     "output_type": "execute_result"
    }
   ],
   "source": [
    "X=np.array(data.data)\n",
    "y=np.array(data.target)\n",
    "data.feature_names"
   ]
  },
  {
   "cell_type": "code",
   "execution_count": 132,
   "metadata": {},
   "outputs": [],
   "source": [
    "X=np.delete(X, np.array([1,2]), axis = 1)"
   ]
  },
  {
   "cell_type": "code",
   "execution_count": 133,
   "metadata": {},
   "outputs": [
    {
     "data": {
      "text/plain": [
       "((150, 2), (150,))"
      ]
     },
     "execution_count": 133,
     "metadata": {},
     "output_type": "execute_result"
    }
   ],
   "source": [
    "X.shape, y.shape"
   ]
  },
  {
   "cell_type": "code",
   "execution_count": 134,
   "metadata": {},
   "outputs": [
    {
     "data": {
      "text/plain": [
       "array(['setosa', 'versicolor', 'virginica'], dtype='<U10')"
      ]
     },
     "execution_count": 134,
     "metadata": {},
     "output_type": "execute_result"
    }
   ],
   "source": [
    "data.target_names"
   ]
  },
  {
   "cell_type": "code",
   "execution_count": 135,
   "metadata": {},
   "outputs": [
    {
     "data": {
      "text/plain": [
       "array([0, 0, 0, 0, 0, 0, 0, 0, 0, 0])"
      ]
     },
     "execution_count": 135,
     "metadata": {},
     "output_type": "execute_result"
    }
   ],
   "source": [
    "y[:10]"
   ]
  },
  {
   "cell_type": "code",
   "execution_count": 136,
   "metadata": {},
   "outputs": [
    {
     "data": {
      "text/plain": [
       "array([1, 1, 1, 1, 1, 1, 1, 1, 1, 1])"
      ]
     },
     "execution_count": 136,
     "metadata": {},
     "output_type": "execute_result"
    }
   ],
   "source": [
    "y_=[]\n",
    "for i in y:\n",
    "    if i==0:\n",
    "        y_.append(1)\n",
    "    else:\n",
    "        y_.append(-1)\n",
    "y=np.array(y_)\n",
    "y[:10]"
   ]
  },
  {
   "cell_type": "code",
   "execution_count": 137,
   "metadata": {},
   "outputs": [
    {
     "data": {
      "text/plain": [
       "<matplotlib.collections.PathCollection at 0x7f8c7a654da0>"
      ]
     },
     "execution_count": 137,
     "metadata": {},
     "output_type": "execute_result"
    },
    {
     "data": {
      "image/png": "[encoded data removed]",
      "text/plain": [
       "<Figure size 432x288 with 1 Axes>"
      ]
     },
     "metadata": {},
     "output_type": "display_data"
    }
   ],
   "source": [
    "plt.scatter(X[:,0], X[:,1], c=y, cmap ='cividis')"
   ]
  },
  {
   "cell_type": "code",
   "execution_count": 138,
   "metadata": {},
   "outputs": [],
   "source": [
    "class SVM_hard:\n",
    "    def objective_fn(self, w):\n",
    "        return cp.norm(w)**2/2\n",
    "    def fit(self, X, y):\n",
    "        w = cp.Variable(2)\n",
    "        b = cp.Variable()\n",
    "        self.constraint = [( y[i]*(w.T@X[i] + b) - 1 ) >= 0 for i in range(len(X))]\n",
    "        problem = cp.Problem(cp.Minimize(self.objective_fn(w)), self.constraint)\n",
    "        problem.solve()\n",
    "        print(problem.status)\n",
    "        self.w = w.value\n",
    "        self.b = b.value\n",
    "        self.support_vectors = []\n",
    "        for x in X:\n",
    "                tmp = self.w @ x.T + self.b\n",
    "                if 1-tmp<10**(-8) and 1-tmp>-10**(-8):\n",
    "                    self.support_vectors.append(x)\n",
    "                if -1-tmp<10**(-8) and -1-tmp>-10**(-8):\n",
    "                    self.support_vectors.append(x)    \n",
    "        self.support_vectors = np.unique(self.support_vectors, axis = 0)\n",
    "    def predict(self, X):\n",
    "        y=[]\n",
    "        for x in X:\n",
    "            tmp = self.w @ x.T + self.b\n",
    "            if tmp >=0:\n",
    "                y.append(1)\n",
    "            else:\n",
    "                y.append(-1)\n",
    "        return np.array(y)\n",
    "        "
   ]
  },
  {
   "cell_type": "code",
   "execution_count": 139,
   "metadata": {},
   "outputs": [
    {
     "name": "stdout",
     "output_type": "stream",
     "text": [
      "optimal\n"
     ]
    }
   ],
   "source": [
    "svm = SVM_hard()\n",
    "svm.fit(X,y)"
   ]
  },
  {
   "cell_type": "code",
   "execution_count": 140,
   "metadata": {},
   "outputs": [
    {
     "name": "stdout",
     "output_type": "stream",
     "text": [
      "Accuracy :  100.0\n"
     ]
    }
   ],
   "source": [
    "y_=svm.predict(X)\n",
    "correct = 150-np.count_nonzero(y_-y)\n",
    "print(\"Accuracy : \", correct*100/150)"
   ]
  },
  {
   "cell_type": "markdown",
   "metadata": {},
   "source": [
    "### Dual Values "
   ]
  },
  {
   "cell_type": "code",
   "execution_count": 141,
   "metadata": {},
   "outputs": [
    {
     "name": "stdout",
     "output_type": "stream",
     "text": [
      "[8.74348766e-11 8.52309823e-11 8.33896574e-11 8.25728155e-11\n",
      " 8.62804461e-11 1.96133611e-10 1.08710314e-10 8.62804461e-11\n",
      " 8.10906662e-11 6.85243120e-11 9.17143719e-11 8.42717450e-11\n",
      " 6.78734298e-11 6.50713946e-11 1.00437415e-10 2.49088320e-10\n",
      " 1.96133611e-10 1.16626633e-10 1.38798869e-10 1.16626633e-10\n",
      " 9.17143719e-11 1.75034617e-10 8.25728155e-11 3.44651818e-10\n",
      " 8.42717450e-11 8.62804461e-11 1.70715031e-10 8.87112843e-11\n",
      " 8.87112843e-11 8.33896574e-11 8.42717450e-11 1.96133611e-10\n",
      " 7.07675412e-11 9.34948539e-11 8.52309823e-11 8.62804461e-11\n",
      " 9.34948539e-11 6.85243120e-11 8.10906662e-11 8.74348766e-11\n",
      " 1.14602943e-10 1.07619272e-10 8.10906662e-11 1.24999981e+01\n",
      " 1.75034617e-10 1.11291679e-10 8.74348766e-11 8.25728155e-11\n",
      " 9.01297321e-11 8.62804461e-11 7.70992356e-11 6.21694899e-11\n",
      " 6.14689663e-11 1.05723030e-10 6.19880908e-11 1.04538925e-10\n",
      " 5.23798167e-11 6.98478319e+00 1.03936512e-10 8.25141984e-11\n",
      " 2.26454539e+00 6.34462917e-11 1.79817560e-01 7.79237827e-11\n",
      " 1.05066914e-10 7.70798978e-11 6.45674085e-11 2.19635382e-01\n",
      " 6.26020272e-11 3.23874994e-10 4.06187297e-11 1.03478106e-10\n",
      " 6.23737104e-11 1.58047811e-10 1.03555320e-10 7.71329835e-11\n",
      " 7.70575300e-11 4.45713634e-11 6.31366954e-11 2.48075229e-01\n",
      " 3.17378983e-10 3.38595983e-01 1.55992099e-10 5.30828187e-11\n",
      " 6.54991169e-11 5.30828187e-11 6.16892156e-11 1.03459108e-10\n",
      " 1.05066914e-10 1.05723030e-10 1.56152103e-10 7.79237827e-11\n",
      " 1.55992099e-10 2.26454539e+00 1.05066914e-10 1.55757797e-10\n",
      " 1.04538925e-10 1.03431634e-10 3.10810720e-10 1.04538925e-10\n",
      " 2.20240692e-11 3.65102450e-11 2.86866179e-11 3.98706660e-11\n",
      " 2.69827306e-11 2.82768797e-11 4.93454955e-11 3.85592741e-11\n",
      " 3.92600521e-11 2.13798753e-11 3.20387144e-11 3.55255947e-11\n",
      " 2.89708074e-11 3.31978534e-11 2.39829616e-11 2.51159632e-11\n",
      " 3.95495536e-11 2.59853817e-11 2.41048750e-11 6.31366954e-11\n",
      " 2.46794175e-11 3.33699320e-11 3.08644329e-11 3.98706660e-11\n",
      " 2.90725319e-11 3.86599870e-11 4.00438916e-11 4.02260441e-11\n",
      " 2.94003425e-11 5.10759780e-11 3.43723645e-11 3.07204867e-11\n",
      " 2.70849029e-11 6.23737104e-11 7.79237827e-11 2.41048750e-11\n",
      " 2.35073851e-11 3.97060008e-11 4.04175163e-11 2.88726536e-11\n",
      " 2.31739459e-11 2.46794175e-11 3.65102450e-11 2.47615173e-11\n",
      " 2.17183077e-11 2.48461378e-11 3.56723240e-11 3.20387144e-11\n",
      " 2.53100810e-11 4.06187297e-11]\n"
     ]
    }
   ],
   "source": [
    "dual = [i.dual_value for i in svm.constraint]\n",
    "print(np.array(dual))"
   ]
  },
  {
   "cell_type": "markdown",
   "metadata": {},
   "source": [
    "what do they mean? - They correspond to the support vector points if their values tend to zero else they correspond to other points in the dataset\n"
   ]
  },
  {
   "cell_type": "markdown",
   "metadata": {},
   "source": [
    "### Plotting the decision boundary"
   ]
  },
  {
   "cell_type": "code",
   "execution_count": 143,
   "metadata": {},
   "outputs": [
    {
     "data": {
      "text/plain": [
       "(array([-3.08375107e-10, -5.00000000e+00]), array(4.))"
      ]
     },
     "execution_count": 143,
     "metadata": {},
     "output_type": "execute_result"
    }
   ],
   "source": [
    "svm.w, svm.b"
   ]
  },
  {
   "cell_type": "code",
   "execution_count": 144,
   "metadata": {},
   "outputs": [
    {
     "data": {
      "text/plain": [
       "array([[4.9, 1. ],\n",
       "       [5. , 0.6],\n",
       "       [5. , 1. ],\n",
       "       [5.5, 1. ],\n",
       "       [5.7, 1. ],\n",
       "       [5.8, 1. ],\n",
       "       [6. , 1. ]])"
      ]
     },
     "execution_count": 144,
     "metadata": {},
     "output_type": "execute_result"
    }
   ],
   "source": [
    "svm.support_vectors"
   ]
  },
  {
   "cell_type": "code",
   "execution_count": 163,
   "metadata": {},
   "outputs": [
    {
     "data": {
      "image/png": "[encoded data removed]",
      "text/plain": [
       "<Figure size 432x288 with 1 Axes>"
      ]
     },
     "metadata": {},
     "output_type": "display_data"
    }
   ],
   "source": [
    "def encircle(x,y, ax=None, **kw):\n",
    "    if not ax: ax=plt.gca()\n",
    "    p = np.c_[x,y]\n",
    "    hull = ConvexHull(p)\n",
    "    poly = plt.Polygon(p[hull.vertices,:], **kw)\n",
    "    ax.add_patch(poly)\n",
    "\n",
    "\n",
    "plt.scatter(X[:,0], X[:,1], c=y, cmap ='viridis')\n",
    "x_plot = np.random.choice(X[:,0], 100)\n",
    "y_plot = [-1*(svm.w[0]*i + svm.b)/svm.w[1] for i in x_plot]\n",
    "y_plot1 = [-1*(svm.w[0]*i + svm.b+1)/svm.w[1] for i in x_plot]\n",
    "y_plot2 = [-1*(svm.w[0]*i + svm.b-1)/svm.w[1] for i in x_plot]\n",
    "plt.plot(x_plot, y_plot, color = 'black')\n",
    "plt.plot(x_plot, y_plot1,  color = 'red', ls='--')\n",
    "plt.plot(x_plot, y_plot2, ls = '--', color = 'green')\n",
    "\n",
    "    \n",
    "x_ = [i[0] for i in svm.support_vectors]\n",
    "y_ = [i[1] for i in svm.support_vectors]\n",
    "encircle(x_,y_, ec=\"blue\", fc=\"none\", linewidth=1.5)\n",
    "plt.show()"
   ]
  },
  {
   "cell_type": "markdown",
   "metadata": {},
   "source": [
    "The support vectors are encircled by the blue polygon"
   ]
  },
  {
   "cell_type": "code",
   "execution_count": 146,
   "metadata": {},
   "outputs": [],
   "source": [
    "a=np.unique(np.array([1,2,2,5]))\n"
   ]
  },
  {
   "cell_type": "markdown",
   "metadata": {},
   "source": [
    "### Using SKlearn's SVM"
   ]
  },
  {
   "cell_type": "code",
   "execution_count": 147,
   "metadata": {},
   "outputs": [],
   "source": [
    "from  sklearn.svm import SVC as svmC"
   ]
  },
  {
   "cell_type": "code",
   "execution_count": 148,
   "metadata": {},
   "outputs": [],
   "source": [
    "svm_sk=svmC(kernel='linear')"
   ]
  },
  {
   "cell_type": "code",
   "execution_count": 149,
   "metadata": {},
   "outputs": [
    {
     "data": {
      "text/plain": [
       "SVC(C=1.0, cache_size=200, class_weight=None, coef0=0.0,\n",
       "  decision_function_shape='ovr', degree=3, gamma='auto_deprecated',\n",
       "  kernel='linear', max_iter=-1, probability=False, random_state=None,\n",
       "  shrinking=True, tol=0.001, verbose=False)"
      ]
     },
     "execution_count": 149,
     "metadata": {},
     "output_type": "execute_result"
    }
   ],
   "source": [
    "svm_sk.fit(X,y)"
   ]
  },
  {
   "cell_type": "code",
   "execution_count": 150,
   "metadata": {},
   "outputs": [],
   "source": [
    "sv = svm_sk.support_vectors_"
   ]
  },
  {
   "cell_type": "code",
   "execution_count": null,
   "metadata": {},
   "outputs": [],
   "source": []
  },
  {
   "cell_type": "code",
   "execution_count": 151,
   "metadata": {},
   "outputs": [
    {
     "data": {
      "text/plain": [
       "array([7, 7], dtype=int32)"
      ]
     },
     "execution_count": 151,
     "metadata": {},
     "output_type": "execute_result"
    }
   ],
   "source": [
    "n=svm_sk.n_support_\n",
    "n"
   ]
  },
  {
   "cell_type": "code",
   "execution_count": 152,
   "metadata": {},
   "outputs": [],
   "source": [
    "sv1 = sv[:n[0]]\n",
    "sv2 = sv[n[0]:]"
   ]
  },
  {
   "cell_type": "code",
   "execution_count": 153,
   "metadata": {},
   "outputs": [
    {
     "data": {
      "text/plain": [
       "array([[4.9, 1. ],\n",
       "       [5. , 1. ],\n",
       "       [6. , 1. ],\n",
       "       [5.8, 1. ],\n",
       "       [5.7, 1. ],\n",
       "       [5.5, 1. ],\n",
       "       [5. , 1. ]])"
      ]
     },
     "execution_count": 153,
     "metadata": {},
     "output_type": "execute_result"
    }
   ],
   "source": [
    "sv1"
   ]
  },
  {
   "cell_type": "code",
   "execution_count": 154,
   "metadata": {},
   "outputs": [
    {
     "data": {
      "text/plain": [
       "array([[5.4, 0.4],\n",
       "       [5.7, 0.4],\n",
       "       [5.4, 0.4],\n",
       "       [5.1, 0.5],\n",
       "       [5.4, 0.4],\n",
       "       [5. , 0.6],\n",
       "       [5.1, 0.4]])"
      ]
     },
     "execution_count": 154,
     "metadata": {},
     "output_type": "execute_result"
    }
   ],
   "source": [
    "sv2"
   ]
  },
  {
   "cell_type": "code",
   "execution_count": 155,
   "metadata": {},
   "outputs": [
    {
     "data": {
      "image/png": "[encoded data removed]",
      "text/plain": [
       "<Figure size 432x288 with 1 Axes>"
      ]
     },
     "metadata": {},
     "output_type": "display_data"
    }
   ],
   "source": [
    "w = svm_sk.coef_[0]\n",
    "b = svm_sk.intercept_[0]\n",
    "\n",
    "\n",
    "plt.scatter(X[:,0], X[:,1], c=y, cmap ='viridis')\n",
    "x_plot = np.random.choice(X[:,0], 100)\n",
    "y_plot = [-1*(w[0]*i + b)/w[1] for i in x_plot]\n",
    "y_plot1 = [-1*(w[0]*i + b+1)/w[1] for i in x_plot]\n",
    "y_plot2 = [-1*(w[0]*i + b-1)/w[1] for i in x_plot]\n",
    "plt.plot(x_plot, y_plot, color = 'black')\n",
    "plt.plot(x_plot, y_plot1,  color = 'red', ls='--')\n",
    "plt.plot(x_plot, y_plot2, ls = '--', color = 'red')\n",
    "\n",
    "\n",
    "    \n",
    "x_ = [i[0] for i in sv]\n",
    "y_ = [i[1] for i in sv]\n",
    "encircle(x_,y_, ec=\"blue\", fc=\"none\", linewidth=1.5)\n",
    "plt.show()"
   ]
  },
  {
   "cell_type": "code",
   "execution_count": 156,
   "metadata": {},
   "outputs": [
    {
     "data": {
      "text/plain": [
       "((7, 2), (7,))"
      ]
     },
     "execution_count": 156,
     "metadata": {},
     "output_type": "execute_result"
    }
   ],
   "source": [
    "\n",
    "X_new.shape, y_new.shape"
   ]
  },
  {
   "cell_type": "markdown",
   "metadata": {},
   "source": [
    "### Decision Boundary while training with only support vectors"
   ]
  },
  {
   "cell_type": "code",
   "execution_count": 157,
   "metadata": {},
   "outputs": [],
   "source": [
    "X_new = svm.support_vectors\n",
    "y_new = svm.predict(X_new)"
   ]
  },
  {
   "cell_type": "code",
   "execution_count": 158,
   "metadata": {},
   "outputs": [
    {
     "name": "stdout",
     "output_type": "stream",
     "text": [
      "optimal\n"
     ]
    }
   ],
   "source": [
    "svm_new = SVM_hard()\n",
    "svm_new.fit(X_new, y_new)\n"
   ]
  },
  {
   "cell_type": "code",
   "execution_count": 159,
   "metadata": {},
   "outputs": [
    {
     "data": {
      "image/png": "[encoded data removed]",
      "text/plain": [
       "<Figure size 432x288 with 1 Axes>"
      ]
     },
     "metadata": {},
     "output_type": "display_data"
    }
   ],
   "source": [
    "\n",
    "plt.scatter(X[:,0], X[:,1], c=y, cmap ='viridis')\n",
    "x_plot = np.random.choice(X[:,0], 100)\n",
    "y_plot = [-1*(svm_new.w[0]*i + svm_new.b)/svm_new.w[1] for i in x_plot]\n",
    "y_plot1 = [-1*(svm_new.w[0]*i + svm_new.b+1)/svm_new.w[1] for i in x_plot]\n",
    "y_plot2 = [-1*(svm_new.w[0]*i + svm_new.b-1)/svm_new.w[1] for i in x_plot]\n",
    "plt.plot(x_plot, y_plot, color = 'black')\n",
    "plt.plot(x_plot, y_plot1,  color = 'red', ls='--')\n",
    "plt.plot(x_plot, y_plot2, ls = '--', color = 'red')\n",
    "\n",
    "\n",
    "plt.show()"
   ]
  },
  {
   "cell_type": "markdown",
   "metadata": {},
   "source": [
    "The decision boundary comes out to be exactly same even after throwing all the points except the support vextors. This is because the suppport vectors are the points which decide the seperating boundary."
   ]
  },
  {
   "cell_type": "code",
   "execution_count": null,
   "metadata": {},
   "outputs": [],
   "source": []
  }
 ],
 "metadata": {
  "kernelspec": {
   "display_name": "Python 3",
   "language": "python",
   "name": "python3"
  },
  "language_info": {
   "codemirror_mode": {
    "name": "ipython",
    "version": 3
   },
   "file_extension": ".py",
   "mimetype": "text/x-python",
   "name": "python",
   "nbconvert_exporter": "python",
   "pygments_lexer": "ipython3",
   "version": "3.5.2"
  }
 },
 "nbformat": 4,
 "nbformat_minor": 2
}
