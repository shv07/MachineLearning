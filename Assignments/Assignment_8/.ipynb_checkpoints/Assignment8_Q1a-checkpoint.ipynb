{
 "cells": [
  {
   "cell_type": "markdown",
   "metadata": {},
   "source": [
    "## Binary Logistic Regression Regression from scratch\n",
    "Implementation of a binary classifier using logistic regression from scratch and testing the same on Iris Dataset<br>\n",
    "Author - Shivji Bhagat"
   ]
  },
  {
   "cell_type": "code",
   "execution_count": 67,
   "metadata": {},
   "outputs": [],
   "source": [
    "#references:\n",
    "#scikitlearn\n",
    "#https://stackoverflow.com/questions/28256058/plotting-decision-boundary-of-logistic-regression"
   ]
  },
  {
   "cell_type": "code",
   "execution_count": 51,
   "metadata": {},
   "outputs": [],
   "source": [
    "import numpy as np\n",
    "import matplotlib.pyplot as plt\n",
    "import pandas as pd\n",
    "from sklearn.datasets import load_iris\n",
    "from sklearn.model_selection import train_test_split"
   ]
  },
  {
   "cell_type": "code",
   "execution_count": 52,
   "metadata": {},
   "outputs": [],
   "source": [
    "def sigmoid(z):\n",
    "    \"\"\"\n",
    "    Returns sigmoid of z\n",
    "    Args:\n",
    "        z - a real no., a vector or a matrix\n",
    "    Return:\n",
    "        sigmoid(z) - a real no., a vector or a matrix\n",
    "    \"\"\"\n",
    "    return 1/(1+np.exp(-1.0*z))\n",
    "\n",
    "def linear(X, W, b):\n",
    "    \"\"\"\n",
    "    Returns W.X+b (real no.)\n",
    "    Args:\n",
    "        X - a column vector or a real no. or a matrix with m column\n",
    "        W - Weight Row vector\n",
    "        b - real no.\n",
    "    \"\"\"\n",
    "    Z = np.dot(W,X) + b\n",
    "    return Z\n",
    "\n",
    "def cost_fn(Y, Y_):\n",
    "    \"\"\"\n",
    "    Logistic Reression Cost Function\n",
    "    \"\"\"\n",
    "    m = Y.shape[1]\n",
    "    return (-1/m)*np.sum(Y*np.log(Y_) + (1-Y)*np.log(1-Y_))\n",
    "\n",
    "def accuracy(y,y_):\n",
    "    \"\"\"\n",
    "    Accuracy Fn\n",
    "    Expects y_.shape = (1,m)\n",
    "    \"\"\"\n",
    "    y_=np.array(y_)\n",
    "    y=np.array(y).reshape(y_.shape)\n",
    "    #assert y.shape==y_.shape\n",
    "    return np.sum(y==y_)*100/y.shape[1]\n",
    "\n",
    "\n",
    "class LogisticRegressionS:\n",
    "    def __init__(self):\n",
    "        self.alpha = None\n",
    "        self.epochs = None\n",
    "        self.weights = None\n",
    "        self.bias = None\n",
    "        self.costs = None\n",
    "    def initialize_params(self, dim, random = 0):\n",
    "        self.weights = np.zeros((1,dim))\n",
    "        self.bias = 0\n",
    "    def fit(self, X, y, alpha = 0.05, epochs = 200, seed = 0):\n",
    "        np.random.seed(seed)\n",
    "        self.alpha = alpha\n",
    "        self.epochs = epochs\n",
    "        self.costs = [] \n",
    "        self.probs = None\n",
    "        #weights = np.random.randn(len(X[0]),1) #random initailisation of params\n",
    "        self.initialize_params(X.shape[0])\n",
    "        m = X.shape[1]\n",
    "        for i in range(self.epochs):\n",
    "            #forward\n",
    "            Z = linear(X, self.weights, self.bias)\n",
    "            Y_ = sigmoid(Z)\n",
    "            cost = cost_fn(y, Y_)\n",
    "            self.costs.append(cost)\n",
    "            #compute gradients\n",
    "            dZ = Y_-y\n",
    "            dW = ((1/m)*np.dot(X, dZ.T)).T\n",
    "            db = (1/m)*np.sum(dZ)\n",
    "            \n",
    "            #update params\n",
    "            self.weights -= self.alpha*dW\n",
    "            self.bias -= self.alpha*db\n",
    "        \n",
    "    def predict(self, X):\n",
    "        Z = linear(X, self.weights, self.bias)\n",
    "        Y_ = sigmoid(Z)   #get the probabilities of ==1\n",
    "        y_predicted = np.round(Y_)     #if P>0.5, then class is 1 else 0\n",
    "        self.probs = Y_\n",
    "        return y_predicted\n",
    "    "
   ]
  },
  {
   "cell_type": "markdown",
   "metadata": {},
   "source": [
    "### Showing Use on IRIS dataset"
   ]
  },
  {
   "cell_type": "code",
   "execution_count": 53,
   "metadata": {},
   "outputs": [],
   "source": [
    "data = load_iris()"
   ]
  },
  {
   "cell_type": "code",
   "execution_count": 54,
   "metadata": {},
   "outputs": [
    {
     "data": {
      "text/plain": [
       "array([0, 0, 0, 0, 0, 0, 0, 0, 0, 0, 0, 0, 0, 0, 0, 0, 0, 0, 0, 0, 0, 0,\n",
       "       0, 0, 0, 0, 0, 0, 0, 0, 0, 0, 0, 0, 0, 0, 0, 0, 0, 0, 0, 0, 0, 0,\n",
       "       0, 0, 0, 0, 0, 0, 1, 1, 1, 1, 1, 1, 1, 1, 1, 1, 1, 1, 1, 1, 1, 1,\n",
       "       1, 1, 1, 1, 1, 1, 1, 1, 1, 1, 1, 1, 1, 1, 1, 1, 1, 1, 1, 1, 1, 1,\n",
       "       1, 1, 1, 1, 1, 1, 1, 1, 1, 1, 1, 1, 2, 2, 2, 2, 2, 2, 2, 2, 2, 2,\n",
       "       2, 2, 2, 2, 2, 2, 2, 2, 2, 2, 2, 2, 2, 2, 2, 2, 2, 2, 2, 2, 2, 2,\n",
       "       2, 2, 2, 2, 2, 2, 2, 2, 2, 2, 2, 2, 2, 2, 2, 2, 2, 2])"
      ]
     },
     "execution_count": 54,
     "metadata": {},
     "output_type": "execute_result"
    }
   ],
   "source": [
    "data.target"
   ]
  },
  {
   "cell_type": "code",
   "execution_count": 55,
   "metadata": {},
   "outputs": [
    {
     "data": {
      "text/plain": [
       "((2, 150), (1, 150))"
      ]
     },
     "execution_count": 55,
     "metadata": {},
     "output_type": "execute_result"
    }
   ],
   "source": [
    "#reshape to adust for the algorithm and modify a/t question\n",
    "X=np.delete(data.data, [1,2], axis = 1).T #removing the features 1,2\n",
    "y=np.reshape(data.target, (1,-1))\n",
    "y[y!=0] = 1 #replacing all non-zeroes with 1\n",
    "X.shape, y.shape"
   ]
  },
  {
   "cell_type": "markdown",
   "metadata": {},
   "source": [
    "#### Plot of  the dataset"
   ]
  },
  {
   "cell_type": "code",
   "execution_count": 56,
   "metadata": {},
   "outputs": [
    {
     "data": {
      "image/png": "[encoded data removed]",
      "text/plain": [
       "<Figure size 504x432 with 1 Axes>"
      ]
     },
     "metadata": {
      "needs_background": "light"
     },
     "output_type": "display_data"
    }
   ],
   "source": [
    "plt.figure(figsize=(7,6))\n",
    "plt.scatter(X[0],X[1],c=y[0])\n",
    "plt.xlabel('Sepal Length')\n",
    "plt.ylabel('Petal Width')\n",
    "plt.show()"
   ]
  },
  {
   "cell_type": "code",
   "execution_count": 57,
   "metadata": {},
   "outputs": [],
   "source": [
    "#test-train split\n",
    "X_train,X_test, y_train, y_test = train_test_split(X.T, y[0])\n",
    "X_train, X_test = X_train.T, X_test.T\n",
    "y_train, y_test = y_train.reshape(1,-1), y_test.reshape(1,-1)"
   ]
  },
  {
   "cell_type": "code",
   "execution_count": 58,
   "metadata": {},
   "outputs": [
    {
     "name": "stdout",
     "output_type": "stream",
     "text": [
      "(2, 112)\n",
      "(2, 38)\n",
      "(1, 112)\n",
      "(1, 38)\n"
     ]
    }
   ],
   "source": [
    "for i in [X_train, X_test, y_train, y_test]:\n",
    "    print(i.shape)"
   ]
  },
  {
   "cell_type": "code",
   "execution_count": 59,
   "metadata": {},
   "outputs": [],
   "source": [
    "LR = LogisticRegressionS()"
   ]
  },
  {
   "cell_type": "code",
   "execution_count": 60,
   "metadata": {},
   "outputs": [],
   "source": [
    "LR.fit(X_train,y_train,epochs=1000)"
   ]
  },
  {
   "cell_type": "code",
   "execution_count": 61,
   "metadata": {},
   "outputs": [],
   "source": [
    "y_pred_train = LR.predict(X_train)\n",
    "y_pred_test = LR.predict(X_test)"
   ]
  },
  {
   "cell_type": "code",
   "execution_count": 62,
   "metadata": {},
   "outputs": [
    {
     "data": {
      "text/plain": [
       "100.0"
      ]
     },
     "execution_count": 62,
     "metadata": {},
     "output_type": "execute_result"
    }
   ],
   "source": [
    "#train_set accuracy\n",
    "accuracy(y_pred_train, y_train)"
   ]
  },
  {
   "cell_type": "code",
   "execution_count": 63,
   "metadata": {},
   "outputs": [
    {
     "data": {
      "text/plain": [
       "100.0"
      ]
     },
     "execution_count": 63,
     "metadata": {},
     "output_type": "execute_result"
    }
   ],
   "source": [
    "#test_accuracy\n",
    "accuracy(y_pred_test, y_test)"
   ]
  },
  {
   "cell_type": "code",
   "execution_count": 64,
   "metadata": {},
   "outputs": [
    {
     "data": {
      "image/png": "[encoded data removed]",
      "text/plain": [
       "<Figure size 432x288 with 1 Axes>"
      ]
     },
     "metadata": {
      "needs_background": "light"
     },
     "output_type": "display_data"
    }
   ],
   "source": [
    "#cost vs iteration\n",
    "plt.xlabel(\"Iteration\")\n",
    "plt.ylabel(\"Log-Reg. Cost\")\n",
    "plt.title(\"Cost v/s iter\")\n",
    "_ =plt.plot(range(1,LR.epochs+1),LR.costs)\n"
   ]
  },
  {
   "cell_type": "markdown",
   "metadata": {},
   "source": [
    "### Plot of decision boundary"
   ]
  },
  {
   "cell_type": "code",
   "execution_count": 65,
   "metadata": {},
   "outputs": [
    {
     "data": {
      "image/png": "[encoded data removed]",
      "text/plain": [
       "<Figure size 576x432 with 2 Axes>"
      ]
     },
     "metadata": {
      "needs_background": "light"
     },
     "output_type": "display_data"
    }
   ],
   "source": [
    "xx, yy = np.mgrid[3:9:.01, -2:4:.01]\n",
    "grid = np.c_[xx.ravel(), yy.ravel()]\n",
    "probs = LR.predict(grid.T)\n",
    "probs = LR.probs\n",
    "probs = probs.reshape(xx.shape)\n",
    "f, ax = plt.subplots(figsize=(8, 6))\n",
    "contour = ax.contourf(xx, yy, probs, 25, cmap=\"RdBu\",vmin=0, vmax=1)\n",
    "\n",
    "ax_c = f.colorbar(contour)\n",
    "ax_c.set_label(\"$P(Label = Setosa)$\")\n",
    "ax_c.set_ticks([0, .25, .5, .75, 1])\n",
    "\n",
    "ax.scatter(X[0], X[1], c=y[0], s=50,cmap=plt.cm.coolwarm, vmin=-.2, vmax=1.2,edgecolor=\"white\", linewidth=1)\n",
    "\n",
    "ax.set(aspect=\"equal\",xlim=(3, 9), ylim=(-2, 4),xlabel=\"$X_1$\", ylabel=\"$X_2$\")\n",
    "plt.show()"
   ]
  },
  {
   "cell_type": "markdown",
   "metadata": {},
   "source": [
    "### Comparing with inbuilt Scikit Learn Model"
   ]
  },
  {
   "cell_type": "code",
   "execution_count": 42,
   "metadata": {},
   "outputs": [],
   "source": [
    "#comparing with sklearn logistic regression\n",
    "from sklearn.linear_model import LogisticRegression as LRsk\n",
    "lr = LRsk()"
   ]
  },
  {
   "cell_type": "code",
   "execution_count": 44,
   "metadata": {},
   "outputs": [
    {
     "data": {
      "text/plain": [
       "LogisticRegression(C=1.0, class_weight=None, dual=False, fit_intercept=True,\n",
       "                   intercept_scaling=1, l1_ratio=None, max_iter=100,\n",
       "                   multi_class='auto', n_jobs=None, penalty='l2',\n",
       "                   random_state=None, solver='lbfgs', tol=0.0001, verbose=0,\n",
       "                   warm_start=False)"
      ]
     },
     "execution_count": 44,
     "metadata": {},
     "output_type": "execute_result"
    }
   ],
   "source": [
    "lr.fit(X_train.T,y_train[0])"
   ]
  },
  {
   "cell_type": "code",
   "execution_count": 49,
   "metadata": {},
   "outputs": [
    {
     "name": "stdout",
     "output_type": "stream",
     "text": [
      "Train Accuracy, Test Accuracy:\n"
     ]
    },
    {
     "data": {
      "text/plain": [
       "(100.0, 100.0)"
      ]
     },
     "execution_count": 49,
     "metadata": {},
     "output_type": "execute_result"
    }
   ],
   "source": [
    "y1 = lr.predict(X_train.T).reshape(1,-1)\n",
    "y2 = lr.predict(X_test.T).reshape(1,-1)\n",
    "print(\"Train Accuracy, Test Accuracy:\")\n",
    "accuracy(y1, y_train), accuracy(y2, y_test)"
   ]
  }
 ],
 "metadata": {
  "kernelspec": {
   "display_name": "Python 3",
   "language": "python",
   "name": "python3"
  },
  "language_info": {
   "codemirror_mode": {
    "name": "ipython",
    "version": 3
   },
   "file_extension": ".py",
   "mimetype": "text/x-python",
   "name": "python",
   "nbconvert_exporter": "python",
   "pygments_lexer": "ipython3",
   "version": "3.7.7"
  }
 },
 "nbformat": 4,
 "nbformat_minor": 2
}
