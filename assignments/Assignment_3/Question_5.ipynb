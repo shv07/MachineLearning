{
 "cells": [
  {
   "cell_type": "code",
   "execution_count": 1,
   "metadata": {},
   "outputs": [],
   "source": [
    "import numpy as np\n",
    "import pandas as pd\n",
    "import matplotlib.pyplot as plt\n",
    "from itertools import combinations\n",
    "from sklearn.preprocessing import StandardScaler\n",
    "\n",
    "def RMS(y1,y2):\n",
    "    #calculating RMS\n",
    "    y1=np.transpose(y1)[0]\n",
    "    y2=np.transpose(y2)[0]\n",
    "    rms=(sum(((y1-y2)**2))/len(y1))**0.5\n",
    "    return rms\n",
    "\n",
    "def gradientDescentRegression(X, y, alpha = 0.00001, iteration=100000):\n",
    "    X=np.insert(X,0,values=np.ones(len(X)),axis=1)\n",
    "    theta=np.random.randn(len(X[0]),1)\n",
    "    X_t=np.transpose(X)\n",
    "    for i in range(iteration):\n",
    "        y_=np.matmul(X,theta)\n",
    "        error=y_-y\n",
    "        theta=theta-(alpha/len(y))*np.matmul(X_t,error)     \n",
    "    return theta\n"
   ]
  },
  {
   "cell_type": "code",
   "execution_count": 2,
   "metadata": {},
   "outputs": [],
   "source": [
    "x = np.arange(0, 20.1, 0.1)\n",
    "np.random.seed(0)\n",
    "y = 1*x**5 + 3*x**4 - 100*x**3 + 8*x**2 -300*x - 1e5 + np.random.randn(len(x))*1e5"
   ]
  },
  {
   "cell_type": "code",
   "execution_count": 3,
   "metadata": {},
   "outputs": [
    {
     "data": {
      "text/plain": [
       "(201,)"
      ]
     },
     "execution_count": 3,
     "metadata": {},
     "output_type": "execute_result"
    }
   ],
   "source": [
    "x.shape"
   ]
  },
  {
   "cell_type": "code",
   "execution_count": 4,
   "metadata": {},
   "outputs": [
    {
     "data": {
      "text/plain": [
       "(201,)"
      ]
     },
     "execution_count": 4,
     "metadata": {},
     "output_type": "execute_result"
    }
   ],
   "source": [
    "y.shape"
   ]
  },
  {
   "cell_type": "code",
   "execution_count": 5,
   "metadata": {},
   "outputs": [
    {
     "data": {
      "text/plain": [
       "array([0. , 0.1, 0.2, 0.3, 0.4, 0.5, 0.6, 0.7, 0.8, 0.9, 1. , 1.1, 1.2,\n",
       "       1.3, 1.4, 1.5, 1.6, 1.7, 1.8, 1.9, 2. , 2.1, 2.2, 2.3, 2.4, 2.5,\n",
       "       2.6, 2.7, 2.8, 2.9, 3. , 3.1, 3.2, 3.3, 3.4, 3.5, 3.6, 3.7, 3.8,\n",
       "       3.9, 4. , 4.1, 4.2, 4.3, 4.4, 4.5, 4.6, 4.7, 4.8, 4.9])"
      ]
     },
     "execution_count": 5,
     "metadata": {},
     "output_type": "execute_result"
    }
   ],
   "source": [
    "x[:50]"
   ]
  },
  {
   "cell_type": "code",
   "execution_count": 6,
   "metadata": {},
   "outputs": [
    {
     "data": {
      "text/plain": [
       "array([  76405.23459677,  -60014.29885328,   -2186.67646943,\n",
       "        123997.36665015,   86630.766055  , -197888.06923764,\n",
       "         -5189.41168744, -115375.21245977, -110606.40869936,\n",
       "        -59274.01101616,  -85983.64288391,   44979.9335063 ,\n",
       "        -24408.7983653 ,  -88416.39712072,  -56275.49368546,\n",
       "        -67379.28601257,   48568.93387576, -121454.75150658,\n",
       "        -69740.12135491, -186572.73664017, -356586.98158341,\n",
       "        -36059.77514596,  -15120.64699405, -175932.56631064,\n",
       "        125098.30143876, -247484.22370988,  -97651.76170986,\n",
       "       -121135.44363258,   50661.94191585,   44111.55278003,\n",
       "        -87547.25743031,  -65452.62022978, -192283.33764301,\n",
       "       -301829.09659239, -138793.87989262,  -88629.1968396 ,\n",
       "         18495.69463277,   15427.89274844, -143826.4692608 ,\n",
       "       -135614.22076753, -210535.29650671, -247983.1234079 ,\n",
       "       -276914.2779425 ,   88480.48425318, -157875.14713517,\n",
       "       -151032.46141112, -232820.98944499,  -30109.19004681,\n",
       "       -269564.1002758 , -129762.6552314 ])"
      ]
     },
     "execution_count": 6,
     "metadata": {},
     "output_type": "execute_result"
    }
   ],
   "source": [
    "np.transpose(y[:50])"
   ]
  },
  {
   "cell_type": "code",
   "execution_count": 7,
   "metadata": {},
   "outputs": [
    {
     "name": "stdout",
     "output_type": "stream",
     "text": [
      "P=4\n",
      "[[-9635.90842273]\n",
      " [14570.1025782 ]\n",
      " [30917.76914308]\n",
      " [40071.83815751]\n",
      " [45460.41471495]]\n"
     ]
    }
   ],
   "source": [
    "def regression(p,x,y):\n",
    "    X=[]\n",
    "    for i in range(1,p+1):\n",
    "        X.append(x**i)\n",
    "    X=np.transpose(X)\n",
    "    train_x=X[:151]\n",
    "    test_x=X[151:]\n",
    "    train_y=np.transpose([y[:151]])\n",
    "    test_y=np.transpose([y[151:]])\n",
    "    \n",
    "    scaler = StandardScaler()\n",
    "    train_x = scaler.fit_transform(train_x)\n",
    "    test_x = scaler.transform(test_x)\n",
    "\n",
    "    \n",
    "    theta=gradientDescentRegression(train_x, train_y)\n",
    "    Y_predict=np.matmul(np.insert(test_x,0,values=np.ones(len(test_x)),axis=1),theta)\n",
    "    rmse=RMS(Y_predict,test_y)\n",
    "    return (rmse,theta)\n",
    "print(\"P=4\")\n",
    "(rmse,theta)=regression(4,x,y)\n",
    "print(theta)"
   ]
  },
  {
   "cell_type": "code",
   "execution_count": 8,
   "metadata": {},
   "outputs": [
    {
     "name": "stdout",
     "output_type": "stream",
     "text": [
      "P=5\n",
      "[[-9635.82930953]\n",
      " [ 8836.57865417]\n",
      " [23105.48140004]\n",
      " [30942.26874695]\n",
      " [35488.18392158]\n",
      " [38257.13849719]]\n"
     ]
    }
   ],
   "source": [
    "print(\"P=5\")\n",
    "(rmse,theta)=regression(5,x,y)\n",
    "print(theta)"
   ]
  },
  {
   "cell_type": "code",
   "execution_count": null,
   "metadata": {},
   "outputs": [],
   "source": []
  },
  {
   "cell_type": "code",
   "execution_count": null,
   "metadata": {},
   "outputs": [],
   "source": []
  }
 ],
 "metadata": {
  "kernelspec": {
   "display_name": "Python 3",
   "language": "python",
   "name": "python3"
  },
  "language_info": {
   "codemirror_mode": {
    "name": "ipython",
    "version": 3
   },
   "file_extension": ".py",
   "mimetype": "text/x-python",
   "name": "python",
   "nbconvert_exporter": "python",
   "pygments_lexer": "ipython3",
   "version": "3.5.2"
  }
 },
 "nbformat": 4,
 "nbformat_minor": 2
}
