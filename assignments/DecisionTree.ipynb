{
 "cells": [
  {
   "cell_type": "code",
   "execution_count": 426,
   "metadata": {},
   "outputs": [],
   "source": [
    "from sklearn import tree\n",
    "from math import log\n",
    "import numpy as np\n",
    "import pandas as pd\n",
    "from matplotlib import pyplot as plt\n",
    "from sklearn.preprocessing import LabelEncoder\n",
    "from sklearn import datasets\n",
    "import random"
   ]
  },
  {
   "cell_type": "code",
   "execution_count": 403,
   "metadata": {},
   "outputs": [],
   "source": [
    "#loading data\n",
    "df = pd.read_csv('tennis.csv')"
   ]
  },
  {
   "cell_type": "code",
   "execution_count": 404,
   "metadata": {},
   "outputs": [
    {
     "data": {
      "text/html": [
       "<div>\n",
       "<style scoped>\n",
       "    .dataframe tbody tr th:only-of-type {\n",
       "        vertical-align: middle;\n",
       "    }\n",
       "\n",
       "    .dataframe tbody tr th {\n",
       "        vertical-align: top;\n",
       "    }\n",
       "\n",
       "    .dataframe thead th {\n",
       "        text-align: right;\n",
       "    }\n",
       "</style>\n",
       "<table border=\"1\" class=\"dataframe\">\n",
       "  <thead>\n",
       "    <tr style=\"text-align: right;\">\n",
       "      <th></th>\n",
       "      <th>Day</th>\n",
       "      <th>outlook</th>\n",
       "      <th>temp</th>\n",
       "      <th>humidity</th>\n",
       "      <th>windy</th>\n",
       "      <th>play</th>\n",
       "    </tr>\n",
       "  </thead>\n",
       "  <tbody>\n",
       "    <tr>\n",
       "      <th>0</th>\n",
       "      <td>D1</td>\n",
       "      <td>Sunny</td>\n",
       "      <td>Hot</td>\n",
       "      <td>High</td>\n",
       "      <td>Weak</td>\n",
       "      <td>No</td>\n",
       "    </tr>\n",
       "    <tr>\n",
       "      <th>1</th>\n",
       "      <td>D2</td>\n",
       "      <td>Sunny</td>\n",
       "      <td>Hot</td>\n",
       "      <td>High</td>\n",
       "      <td>Strong</td>\n",
       "      <td>No</td>\n",
       "    </tr>\n",
       "    <tr>\n",
       "      <th>2</th>\n",
       "      <td>D3</td>\n",
       "      <td>Overcast</td>\n",
       "      <td>Hot</td>\n",
       "      <td>High</td>\n",
       "      <td>Weak</td>\n",
       "      <td>Yes</td>\n",
       "    </tr>\n",
       "    <tr>\n",
       "      <th>3</th>\n",
       "      <td>D4</td>\n",
       "      <td>Rain</td>\n",
       "      <td>Mild</td>\n",
       "      <td>High</td>\n",
       "      <td>Weak</td>\n",
       "      <td>Yes</td>\n",
       "    </tr>\n",
       "    <tr>\n",
       "      <th>4</th>\n",
       "      <td>D5</td>\n",
       "      <td>Rain</td>\n",
       "      <td>Cool</td>\n",
       "      <td>Normal</td>\n",
       "      <td>Weak</td>\n",
       "      <td>Yes</td>\n",
       "    </tr>\n",
       "    <tr>\n",
       "      <th>5</th>\n",
       "      <td>D6</td>\n",
       "      <td>Rain</td>\n",
       "      <td>Cool</td>\n",
       "      <td>Normal</td>\n",
       "      <td>Strong</td>\n",
       "      <td>No</td>\n",
       "    </tr>\n",
       "    <tr>\n",
       "      <th>6</th>\n",
       "      <td>D7</td>\n",
       "      <td>Overcast</td>\n",
       "      <td>Cool</td>\n",
       "      <td>Normal</td>\n",
       "      <td>Strong</td>\n",
       "      <td>Yes</td>\n",
       "    </tr>\n",
       "    <tr>\n",
       "      <th>7</th>\n",
       "      <td>D8</td>\n",
       "      <td>Sunny</td>\n",
       "      <td>Mild</td>\n",
       "      <td>High</td>\n",
       "      <td>Weak</td>\n",
       "      <td>No</td>\n",
       "    </tr>\n",
       "    <tr>\n",
       "      <th>8</th>\n",
       "      <td>D9</td>\n",
       "      <td>Sunny</td>\n",
       "      <td>Cool</td>\n",
       "      <td>Normal</td>\n",
       "      <td>Weak</td>\n",
       "      <td>Yes</td>\n",
       "    </tr>\n",
       "    <tr>\n",
       "      <th>9</th>\n",
       "      <td>D10</td>\n",
       "      <td>Rain</td>\n",
       "      <td>Mild</td>\n",
       "      <td>Normal</td>\n",
       "      <td>Weak</td>\n",
       "      <td>Yes</td>\n",
       "    </tr>\n",
       "    <tr>\n",
       "      <th>10</th>\n",
       "      <td>D11</td>\n",
       "      <td>Sunny</td>\n",
       "      <td>Mild</td>\n",
       "      <td>Normal</td>\n",
       "      <td>Strong</td>\n",
       "      <td>Yes</td>\n",
       "    </tr>\n",
       "    <tr>\n",
       "      <th>11</th>\n",
       "      <td>D12</td>\n",
       "      <td>Overcast</td>\n",
       "      <td>Mild</td>\n",
       "      <td>High</td>\n",
       "      <td>Strong</td>\n",
       "      <td>Yes</td>\n",
       "    </tr>\n",
       "    <tr>\n",
       "      <th>12</th>\n",
       "      <td>D13</td>\n",
       "      <td>Overcast</td>\n",
       "      <td>Hot</td>\n",
       "      <td>Normal</td>\n",
       "      <td>Weak</td>\n",
       "      <td>Yes</td>\n",
       "    </tr>\n",
       "    <tr>\n",
       "      <th>13</th>\n",
       "      <td>D14</td>\n",
       "      <td>Rain</td>\n",
       "      <td>Mild</td>\n",
       "      <td>High</td>\n",
       "      <td>Strong</td>\n",
       "      <td>No</td>\n",
       "    </tr>\n",
       "  </tbody>\n",
       "</table>\n",
       "</div>"
      ],
      "text/plain": [
       "    Day   outlook  temp humidity   windy play\n",
       "0    D1     Sunny   Hot     High    Weak   No\n",
       "1    D2     Sunny   Hot     High  Strong   No\n",
       "2    D3  Overcast   Hot     High    Weak  Yes\n",
       "3    D4      Rain  Mild     High    Weak  Yes\n",
       "4    D5      Rain  Cool   Normal    Weak  Yes\n",
       "5    D6      Rain  Cool   Normal  Strong   No\n",
       "6    D7  Overcast  Cool   Normal  Strong  Yes\n",
       "7    D8     Sunny  Mild     High    Weak   No\n",
       "8    D9     Sunny  Cool   Normal    Weak  Yes\n",
       "9   D10      Rain  Mild   Normal    Weak  Yes\n",
       "10  D11     Sunny  Mild   Normal  Strong  Yes\n",
       "11  D12  Overcast  Mild     High  Strong  Yes\n",
       "12  D13  Overcast   Hot   Normal    Weak  Yes\n",
       "13  D14      Rain  Mild     High  Strong   No"
      ]
     },
     "execution_count": 404,
     "metadata": {},
     "output_type": "execute_result"
    }
   ],
   "source": [
    "df"
   ]
  },
  {
   "cell_type": "code",
   "execution_count": 405,
   "metadata": {},
   "outputs": [],
   "source": [
    "#preprocessing\n",
    "lb = LabelEncoder() \n",
    "df['play_'] = lb.fit_transform(df['play'] ) \n",
    "Y = df.iloc[:,-1]"
   ]
  },
  {
   "cell_type": "code",
   "execution_count": null,
   "metadata": {},
   "outputs": [],
   "source": []
  },
  {
   "cell_type": "code",
   "execution_count": 406,
   "metadata": {},
   "outputs": [
    {
     "data": {
      "text/plain": [
       "array([['Sunny', 'Hot', 'High', 'Weak'],\n",
       "       ['Sunny', 'Hot', 'High', 'Strong'],\n",
       "       ['Overcast', 'Hot', 'High', 'Weak'],\n",
       "       ['Rain', 'Mild', 'High', 'Weak'],\n",
       "       ['Rain', 'Cool', 'Normal', 'Weak'],\n",
       "       ['Rain', 'Cool', 'Normal', 'Strong'],\n",
       "       ['Overcast', 'Cool', 'Normal', 'Strong'],\n",
       "       ['Sunny', 'Mild', 'High', 'Weak'],\n",
       "       ['Sunny', 'Cool', 'Normal', 'Weak'],\n",
       "       ['Rain', 'Mild', 'Normal', 'Weak'],\n",
       "       ['Sunny', 'Mild', 'Normal', 'Strong'],\n",
       "       ['Overcast', 'Mild', 'High', 'Strong'],\n",
       "       ['Overcast', 'Hot', 'Normal', 'Weak'],\n",
       "       ['Rain', 'Mild', 'High', 'Strong']], dtype=object)"
      ]
     },
     "execution_count": 406,
     "metadata": {},
     "output_type": "execute_result"
    }
   ],
   "source": [
    "X = df.values\n",
    "X=np.delete(X, np.s_[0:1], axis=1)\n",
    "X=np.delete(X, np.s_[-2:], axis=1)\n",
    "X"
   ]
  },
  {
   "cell_type": "code",
   "execution_count": 407,
   "metadata": {},
   "outputs": [
    {
     "data": {
      "text/plain": [
       "0     0\n",
       "1     0\n",
       "2     1\n",
       "3     1\n",
       "4     1\n",
       "5     0\n",
       "6     1\n",
       "7     0\n",
       "8     1\n",
       "9     1\n",
       "10    1\n",
       "11    1\n",
       "12    1\n",
       "13    0\n",
       "Name: play_, dtype: int64"
      ]
     },
     "execution_count": 407,
     "metadata": {},
     "output_type": "execute_result"
    }
   ],
   "source": [
    "Y"
   ]
  },
  {
   "cell_type": "code",
   "execution_count": null,
   "metadata": {},
   "outputs": [],
   "source": []
  },
  {
   "cell_type": "code",
   "execution_count": 408,
   "metadata": {},
   "outputs": [],
   "source": [
    "target=list(Y)\n",
    "examples=X\n",
    "a=list(df.columns)\n",
    "a=a[1:-2]\n",
    "attributes=a"
   ]
  },
  {
   "cell_type": "code",
   "execution_count": 409,
   "metadata": {},
   "outputs": [
    {
     "data": {
      "text/plain": [
       "array([['Sunny', 'Hot', 'High', 'Weak'],\n",
       "       ['Sunny', 'Hot', 'High', 'Strong'],\n",
       "       ['Overcast', 'Hot', 'High', 'Weak'],\n",
       "       ['Rain', 'Mild', 'High', 'Weak'],\n",
       "       ['Rain', 'Cool', 'Normal', 'Weak'],\n",
       "       ['Rain', 'Cool', 'Normal', 'Strong'],\n",
       "       ['Overcast', 'Cool', 'Normal', 'Strong'],\n",
       "       ['Sunny', 'Mild', 'High', 'Weak'],\n",
       "       ['Sunny', 'Cool', 'Normal', 'Weak'],\n",
       "       ['Rain', 'Mild', 'Normal', 'Weak'],\n",
       "       ['Sunny', 'Mild', 'Normal', 'Strong'],\n",
       "       ['Overcast', 'Mild', 'High', 'Strong'],\n",
       "       ['Overcast', 'Hot', 'Normal', 'Weak'],\n",
       "       ['Rain', 'Mild', 'High', 'Strong']], dtype=object)"
      ]
     },
     "execution_count": 409,
     "metadata": {},
     "output_type": "execute_result"
    }
   ],
   "source": [
    "examples"
   ]
  },
  {
   "cell_type": "code",
   "execution_count": 410,
   "metadata": {},
   "outputs": [
    {
     "data": {
      "text/plain": [
       "array([[0],\n",
       "       [0],\n",
       "       [1],\n",
       "       [1],\n",
       "       [1],\n",
       "       [0],\n",
       "       [1],\n",
       "       [0],\n",
       "       [1],\n",
       "       [1],\n",
       "       [1],\n",
       "       [1],\n",
       "       [1],\n",
       "       [0]])"
      ]
     },
     "execution_count": 410,
     "metadata": {},
     "output_type": "execute_result"
    }
   ],
   "source": [
    "np.array([target]).transpose()"
   ]
  },
  {
   "cell_type": "code",
   "execution_count": 411,
   "metadata": {},
   "outputs": [
    {
     "data": {
      "text/plain": [
       "['outlook', 'temp', 'humidity', 'windy']"
      ]
     },
     "execution_count": 411,
     "metadata": {},
     "output_type": "execute_result"
    }
   ],
   "source": [
    "attributes\n"
   ]
  },
  {
   "cell_type": "code",
   "execution_count": 412,
   "metadata": {},
   "outputs": [],
   "source": [
    "def entropy(target):\n",
    "    target=list(target)\n",
    "    p_list=[]\n",
    "    l=len(target)\n",
    "    for i in list(set(target)):\n",
    "        p_list.append(target.count(i)/l)\n",
    "    if 1 in p_list:\n",
    "        return 0\n",
    "    S=0\n",
    "    for i in p_list:\n",
    "        if i!=0:\n",
    "            S+=i*log(i,2)\n",
    "    return -S\n",
    "\n",
    "def info_gain(examples,attributes,A,target):\n",
    "    S=entropy(target)\n",
    "    l=len(target)\n",
    "    sm=0\n",
    "    tmp=np.array(examples)\n",
    "    values_A=list(set(tmp[:,attributes.index(A)]))\n",
    "    for v in values_A:\n",
    "        S_v=[]\n",
    "        for i in range(len(target)):\n",
    "            if examples[i][attributes.index(A)]==v:\n",
    "                S_v.append(target[i])\n",
    "        sm+=len(S_v)*entropy(S_v)/l\n",
    "    i_g=S-sm\n",
    "    return i_g\n"
   ]
  },
  {
   "cell_type": "code",
   "execution_count": null,
   "metadata": {},
   "outputs": [],
   "source": []
  },
  {
   "cell_type": "code",
   "execution_count": 413,
   "metadata": {},
   "outputs": [],
   "source": [
    "def findRoot(examples, target, attributes):\n",
    "    ig_max=-1\n",
    "    root=0\n",
    "    for A in attributes:\n",
    "        if info_gain(examples,attributes,A,target)>ig_max:\n",
    "            ig_max=info_gain(examples, attributes, A, target)\n",
    "            root=A\n",
    "    return root\n",
    "\n",
    "def DecisionTreeClassifier(examples, target, attributes):\n",
    "    tree_={}\n",
    "    root=findRoot(examples, target, attributes)\n",
    "\n",
    "    tree_[root]={}\n",
    "    if 0 not in target:\n",
    "        tree_[root]=1\n",
    "        return tree_\n",
    "    if 1 not in target:\n",
    "        tree_[root]=0\n",
    "        return tree_\n",
    "    if len(attributes)==0:\n",
    "        if sum(target)>=len(target)/2:\n",
    "            tree_[root]=1\n",
    "            return tree_\n",
    "        else:\n",
    "            tree_[root]=0\n",
    "            return tree_\n",
    "    examples=np.array(examples)\n",
    "    values_root=list(set(examples[:,attributes.index(root)]))\n",
    "    branch={}\n",
    "    tree_[root]=branch    \n",
    "    for v in values_root:\n",
    "        branch[v]={}\n",
    "        examp_new=[]\n",
    "        target_new=[]    \n",
    "        for i in range(len(target)):\n",
    "            if examples[i][attributes.index(root)]==v:\n",
    "                examp_new.append(examples[i])\n",
    "                target_new.append(target[i])\n",
    "        if examp_new==[]:\n",
    "            if sum(target)>=len(target)/2:\n",
    "                branch[v]=1\n",
    "            else:\n",
    "                branch[v]=0\n",
    "        else:\n",
    "            tmp=[z for z in attributes]\n",
    "            tmp.remove(root)\n",
    "            examp_new=np.delete(examp_new, np.s_[attributes.index(root):attributes.index(root)+1], axis=1)\n",
    "            branch[v]=DecisionTreeClassifier(examp_new, target_new, tmp)\n",
    "    attributes.remove(root)\n",
    "    return tree_\n",
    "            "
   ]
  },
  {
   "cell_type": "code",
   "execution_count": 414,
   "metadata": {},
   "outputs": [],
   "source": [
    "examples_=examples\n",
    "target_=target\n",
    "attributes_=attributes\n",
    "tree_=DecisionTreeClassifier(examples_, target_, attributes_)"
   ]
  },
  {
   "cell_type": "markdown",
   "metadata": {},
   "source": [
    "## Obtained Trained Decision Tree Model"
   ]
  },
  {
   "cell_type": "code",
   "execution_count": 415,
   "metadata": {},
   "outputs": [
    {
     "data": {
      "text/plain": [
       "{'outlook': {'Overcast': {'temp': 1},\n",
       "  'Rain': {'windy': {'Strong': {'temp': 0}, 'Weak': {'temp': 1}}},\n",
       "  'Sunny': {'humidity': {'High': {'temp': 0}, 'Normal': {'temp': 1}}}}}"
      ]
     },
     "execution_count": 415,
     "metadata": {},
     "output_type": "execute_result"
    }
   ],
   "source": [
    "tree_ "
   ]
  },
  {
   "cell_type": "code",
   "execution_count": 354,
   "metadata": {},
   "outputs": [],
   "source": [
    "#show the tree"
   ]
  },
  {
   "cell_type": "code",
   "execution_count": null,
   "metadata": {},
   "outputs": [],
   "source": [
    "def test_model(trained_model, test_examples, attributes):\n",
    "    for i in test_examples:\n",
    "    \n",
    "    \n",
    "    return\n"
   ]
  },
  {
   "cell_type": "code",
   "execution_count": null,
   "metadata": {},
   "outputs": [],
   "source": []
  },
  {
   "cell_type": "markdown",
   "metadata": {},
   "source": [
    "## Testing IRIS dataset"
   ]
  },
  {
   "cell_type": "code",
   "execution_count": 625,
   "metadata": {},
   "outputs": [],
   "source": [
    "iris = datasets.load_iris()"
   ]
  },
  {
   "cell_type": "code",
   "execution_count": null,
   "metadata": {},
   "outputs": [],
   "source": []
  },
  {
   "cell_type": "code",
   "execution_count": 627,
   "metadata": {},
   "outputs": [],
   "source": [
    "examples_iris=iris['data']\n",
    "target_iris=iris['target']\n",
    "target_name=iris['target_names']\n",
    "attributes_iris=iris['feature_names']"
   ]
  },
  {
   "cell_type": "code",
   "execution_count": null,
   "metadata": {},
   "outputs": [],
   "source": []
  },
  {
   "cell_type": "code",
   "execution_count": null,
   "metadata": {},
   "outputs": [],
   "source": []
  },
  {
   "cell_type": "code",
   "execution_count": 630,
   "metadata": {},
   "outputs": [
    {
     "data": {
      "text/plain": [
       "array(['setosa', 'versicolor', 'virginica'], dtype='<U10')"
      ]
     },
     "execution_count": 630,
     "metadata": {},
     "output_type": "execute_result"
    }
   ],
   "source": [
    "target_name"
   ]
  },
  {
   "cell_type": "code",
   "execution_count": 631,
   "metadata": {},
   "outputs": [
    {
     "data": {
      "text/plain": [
       "['sepal length (cm)',\n",
       " 'sepal width (cm)',\n",
       " 'petal length (cm)',\n",
       " 'petal width (cm)']"
      ]
     },
     "execution_count": 631,
     "metadata": {},
     "output_type": "execute_result"
    }
   ],
   "source": [
    "attributes_iris"
   ]
  },
  {
   "cell_type": "code",
   "execution_count": null,
   "metadata": {},
   "outputs": [],
   "source": []
  },
  {
   "cell_type": "code",
   "execution_count": 632,
   "metadata": {},
   "outputs": [
    {
     "data": {
      "text/plain": [
       "(150, 4)"
      ]
     },
     "execution_count": 632,
     "metadata": {},
     "output_type": "execute_result"
    }
   ],
   "source": [
    "examples_iris.shape"
   ]
  },
  {
   "cell_type": "code",
   "execution_count": 633,
   "metadata": {},
   "outputs": [],
   "source": [
    "split=int(0.7*len(target_iris))       #splitting into 70:30\n",
    "train_examples=examples_iris[:split]\n",
    "train_target=target_iris[:split]\n",
    "test_examples=examples_iris[split:]\n",
    "test_target=target_iris[split:]\n",
    "\n",
    "xz_=np.c_[train_examples,np.array([train_target]).transpose()]\n",
    "xz=np.random.permutation(xz_)\n",
    "train_examples=np.delete(xz, np.s_[-1:], axis=1)\n",
    "train_target=np.uint8(xz[:,-1])"
   ]
  },
  {
   "cell_type": "code",
   "execution_count": 634,
   "metadata": {},
   "outputs": [
    {
     "data": {
      "text/plain": [
       "(105, 4)"
      ]
     },
     "execution_count": 634,
     "metadata": {},
     "output_type": "execute_result"
    }
   ],
   "source": [
    "train_examples.shape"
   ]
  },
  {
   "cell_type": "code",
   "execution_count": 635,
   "metadata": {},
   "outputs": [
    {
     "data": {
      "text/plain": [
       "array([[5. , 3.4, 1.5, 0.2],\n",
       "       [5.8, 2.6, 4. , 1.2],\n",
       "       [5.7, 2.6, 3.5, 1. ],\n",
       "       [4.9, 2.4, 3.3, 1. ],\n",
       "       [5.5, 2.3, 4. , 1.3],\n",
       "       [5. , 2.3, 3.3, 1. ],\n",
       "       [5.2, 4.1, 1.5, 0.1],\n",
       "       [5.4, 3. , 4.5, 1.5],\n",
       "       [6. , 3.4, 4.5, 1.6],\n",
       "       [5.1, 3.5, 1.4, 0.3],\n",
       "       [6.1, 3. , 4.6, 1.4],\n",
       "       [7. , 3.2, 4.7, 1.4],\n",
       "       [5.1, 3.4, 1.5, 0.2],\n",
       "       [5.4, 3.7, 1.5, 0.2],\n",
       "       [6.5, 3. , 5.8, 2.2],\n",
       "       [4.4, 3.2, 1.3, 0.2],\n",
       "       [4.8, 3.1, 1.6, 0.2],\n",
       "       [4.4, 3. , 1.3, 0.2],\n",
       "       [4.6, 3.6, 1. , 0.2],\n",
       "       [5. , 3.2, 1.2, 0.2],\n",
       "       [5.5, 3.5, 1.3, 0.2],\n",
       "       [5.5, 2.4, 3.8, 1.1],\n",
       "       [5.5, 4.2, 1.4, 0.2],\n",
       "       [6.1, 2.8, 4. , 1.3],\n",
       "       [5.4, 3.9, 1.7, 0.4],\n",
       "       [5.6, 3. , 4.5, 1.5],\n",
       "       [5. , 3.6, 1.4, 0.2],\n",
       "       [6.3, 3.3, 6. , 2.5],\n",
       "       [5.8, 2.7, 5.1, 1.9],\n",
       "       [6.2, 2.9, 4.3, 1.3],\n",
       "       [4.6, 3.4, 1.4, 0.3],\n",
       "       [5. , 3.5, 1.3, 0.3],\n",
       "       [6.6, 3. , 4.4, 1.4],\n",
       "       [5.7, 2.8, 4.5, 1.3],\n",
       "       [4.5, 2.3, 1.3, 0.3],\n",
       "       [5.7, 2.9, 4.2, 1.3],\n",
       "       [5.2, 3.5, 1.5, 0.2],\n",
       "       [5.7, 3.8, 1.7, 0.3],\n",
       "       [4.8, 3.4, 1.6, 0.2],\n",
       "       [5.2, 2.7, 3.9, 1.4],\n",
       "       [5. , 3. , 1.6, 0.2],\n",
       "       [5. , 3.4, 1.6, 0.4],\n",
       "       [6.9, 3.1, 4.9, 1.5],\n",
       "       [6.8, 2.8, 4.8, 1.4],\n",
       "       [5.1, 3.8, 1.5, 0.3],\n",
       "       [6. , 2.9, 4.5, 1.5],\n",
       "       [5.8, 2.7, 3.9, 1.2],\n",
       "       [5. , 3.3, 1.4, 0.2],\n",
       "       [5.6, 2.9, 3.6, 1.3],\n",
       "       [6.3, 2.5, 4.9, 1.5],\n",
       "       [5. , 3.5, 1.6, 0.6],\n",
       "       [5.6, 2.5, 3.9, 1.1],\n",
       "       [5.6, 2.7, 4.2, 1.3],\n",
       "       [5.7, 4.4, 1.5, 0.4],\n",
       "       [6.3, 2.3, 4.4, 1.3],\n",
       "       [4.3, 3. , 1.1, 0.1],\n",
       "       [6.7, 3. , 5. , 1.7],\n",
       "       [6.6, 2.9, 4.6, 1.3],\n",
       "       [5.1, 3.8, 1.9, 0.4],\n",
       "       [5.1, 3.5, 1.4, 0.2],\n",
       "       [5.9, 3.2, 4.8, 1.8],\n",
       "       [5.4, 3.9, 1.3, 0.4],\n",
       "       [4.9, 3.1, 1.5, 0.1],\n",
       "       [6.3, 3.3, 4.7, 1.6],\n",
       "       [4.9, 3.6, 1.4, 0.1],\n",
       "       [5.2, 3.4, 1.4, 0.2],\n",
       "       [6.4, 3.2, 4.5, 1.5],\n",
       "       [4.9, 3.1, 1.5, 0.2],\n",
       "       [5.4, 3.4, 1.7, 0.2],\n",
       "       [4.8, 3.4, 1.9, 0.2],\n",
       "       [6.1, 2.8, 4.7, 1.2],\n",
       "       [6.3, 2.9, 5.6, 1.8],\n",
       "       [5.8, 4. , 1.2, 0.2],\n",
       "       [6. , 2.7, 5.1, 1.6],\n",
       "       [5.5, 2.4, 3.7, 1. ],\n",
       "       [5. , 2. , 3.5, 1. ],\n",
       "       [5.4, 3.4, 1.5, 0.4],\n",
       "       [4.8, 3. , 1.4, 0.3],\n",
       "       [5.1, 3.8, 1.6, 0.2],\n",
       "       [5.1, 2.5, 3. , 1.1],\n",
       "       [7.1, 3. , 5.9, 2.1],\n",
       "       [6.7, 3.1, 4.4, 1.4],\n",
       "       [4.6, 3.1, 1.5, 0.2],\n",
       "       [4.6, 3.2, 1.4, 0.2],\n",
       "       [5.8, 2.7, 4.1, 1. ],\n",
       "       [4.7, 3.2, 1.3, 0.2],\n",
       "       [6.5, 2.8, 4.6, 1.5],\n",
       "       [5.1, 3.3, 1.7, 0.5],\n",
       "       [5.7, 2.8, 4.1, 1.3],\n",
       "       [5.3, 3.7, 1.5, 0.2],\n",
       "       [5.5, 2.5, 4. , 1.3],\n",
       "       [6.7, 3.1, 4.7, 1.5],\n",
       "       [5.9, 3. , 4.2, 1.5],\n",
       "       [4.9, 3. , 1.4, 0.2],\n",
       "       [4.8, 3. , 1.4, 0.1],\n",
       "       [5.7, 3. , 4.2, 1.2],\n",
       "       [5.1, 3.7, 1.5, 0.4],\n",
       "       [4.4, 2.9, 1.4, 0.2],\n",
       "       [6. , 2.2, 4. , 1. ],\n",
       "       [6.2, 2.2, 4.5, 1.5],\n",
       "       [6.4, 2.9, 4.3, 1.3],\n",
       "       [5.6, 3. , 4.1, 1.3],\n",
       "       [6.1, 2.9, 4.7, 1.4],\n",
       "       [4.7, 3.2, 1.6, 0.2],\n",
       "       [5.5, 2.6, 4.4, 1.2]])"
      ]
     },
     "execution_count": 635,
     "metadata": {},
     "output_type": "execute_result"
    }
   ],
   "source": [
    "train_examples"
   ]
  },
  {
   "cell_type": "code",
   "execution_count": 636,
   "metadata": {},
   "outputs": [
    {
     "data": {
      "text/plain": [
       "array([0, 1, 1, 1, 1, 1, 0, 1, 1, 0, 1, 1, 0, 0, 2, 0, 0, 0, 0, 0, 0, 1,\n",
       "       0, 1, 0, 1, 0, 2, 2, 1, 0, 0, 1, 1, 0, 1, 0, 0, 0, 1, 0, 0, 1, 1,\n",
       "       0, 1, 1, 0, 1, 1, 0, 1, 1, 0, 1, 0, 1, 1, 0, 0, 1, 0, 0, 1, 0, 0,\n",
       "       1, 0, 0, 0, 1, 2, 0, 1, 1, 1, 0, 0, 0, 1, 2, 1, 0, 0, 1, 0, 1, 0,\n",
       "       1, 0, 1, 1, 1, 0, 0, 1, 0, 0, 1, 1, 1, 1, 1, 0, 1], dtype=uint8)"
      ]
     },
     "execution_count": 636,
     "metadata": {},
     "output_type": "execute_result"
    }
   ],
   "source": [
    "train_target"
   ]
  },
  {
   "cell_type": "code",
   "execution_count": null,
   "metadata": {},
   "outputs": [],
   "source": []
  },
  {
   "cell_type": "code",
   "execution_count": 637,
   "metadata": {},
   "outputs": [
    {
     "data": {
      "text/plain": [
       "[['<6.05', '>3.05', '<2.5', '<0.55'],\n",
       " ['>5.55', '<2.75', '>3.65', '>0.95'],\n",
       " ['>5.55', '<2.75', '>5.15', '>0.95'],\n",
       " ['<6.05', '<2.75', '>5.15', '>0.95'],\n",
       " ['<6.05', '<2.75', '>3.65', '>1.2'],\n",
       " ['<6.05', '<2.75', '>5.15', '>0.95'],\n",
       " ['<6.05', '>3.55', '<2.5', '<0.55'],\n",
       " ['<6.05', '>3.05', '>3.65', '>1.2'],\n",
       " ['>5.55', '>3.05', '>3.65', '>1.2'],\n",
       " ['<6.05', '>3.05', '<2.5', '<0.55'],\n",
       " ['>6.0', '>3.05', '>3.65', '>1.2'],\n",
       " ['>6.0', '>3.05', '>3.65', '>1.2'],\n",
       " ['<6.05', '>3.05', '<2.5', '<0.55'],\n",
       " ['<6.05', '>3.55', '<2.5', '<0.55'],\n",
       " ['>6.0', '>3.05', '>3.65', '>1.2'],\n",
       " ['<6.05', '>3.05', '<2.5', '<0.55'],\n",
       " ['<6.05', '>3.05', '<2.5', '<0.55'],\n",
       " ['<6.05', '>3.05', '<2.5', '<0.55'],\n",
       " ['<6.05', '>3.55', '<2.5', '<0.55'],\n",
       " ['<6.05', '>3.05', '<2.5', '<0.55'],\n",
       " ['<6.05', '>3.05', '<2.5', '<0.55'],\n",
       " ['<6.05', '<2.75', '>3.65', '>0.95'],\n",
       " ['<6.05', '>3.55', '<2.5', '<0.55'],\n",
       " ['>6.0', '>3.05', '>3.65', '>1.2'],\n",
       " ['<6.05', '>3.55', '<2.5', '<0.55'],\n",
       " ['>5.55', '>3.05', '>3.65', '>1.2'],\n",
       " ['<6.05', '>3.55', '<2.5', '<0.55'],\n",
       " ['>6.0', '>3.05', '>3.65', '>1.2'],\n",
       " ['>5.55', '<2.75', '>3.65', '>1.2'],\n",
       " ['>6.0', '>3.05', '>3.65', '>1.2'],\n",
       " ['<6.05', '>3.05', '<2.5', '<0.55'],\n",
       " ['<6.05', '>3.05', '<2.5', '<0.55'],\n",
       " ['>6.0', '>3.05', '>3.65', '>1.2'],\n",
       " ['>5.55', '>3.05', '>3.65', '>1.2'],\n",
       " ['<6.05', '<2.75', '<2.5', '<0.55'],\n",
       " ['>5.55', '>3.05', '>3.65', '>1.2'],\n",
       " ['<6.05', '>3.05', '<2.5', '<0.55'],\n",
       " ['>5.55', '>3.55', '<2.5', '<0.55'],\n",
       " ['<6.05', '>3.05', '<2.5', '<0.55'],\n",
       " ['<6.05', '<2.75', '>3.65', '>1.2'],\n",
       " ['<6.05', '>3.05', '<2.5', '<0.55'],\n",
       " ['<6.05', '>3.05', '<2.5', '<0.55'],\n",
       " ['>6.0', '>3.05', '>3.65', '>1.2'],\n",
       " ['>6.0', '>3.05', '>3.65', '>1.2'],\n",
       " ['<6.05', '>3.55', '<2.5', '<0.55'],\n",
       " ['>5.55', '>3.05', '>3.65', '>1.2'],\n",
       " ['>5.55', '<2.75', '>3.65', '>0.95'],\n",
       " ['<6.05', '>3.05', '<2.5', '<0.55'],\n",
       " ['>5.55', '>3.05', '>5.15', '>1.2'],\n",
       " ['>6.0', '<2.75', '>3.65', '>1.2'],\n",
       " ['<6.05', '>3.05', '<2.5', '>0.95'],\n",
       " ['>5.55', '<2.75', '>3.65', '>0.95'],\n",
       " ['>5.55', '<2.75', '>3.65', '>1.2'],\n",
       " ['>5.55', '>3.55', '<2.5', '<0.55'],\n",
       " ['>6.0', '<2.75', '>3.65', '>1.2'],\n",
       " ['<6.05', '>3.05', '<2.5', '<0.55'],\n",
       " ['>6.0', '>3.05', '>3.65', '>1.2'],\n",
       " ['>6.0', '>3.05', '>3.65', '>1.2'],\n",
       " ['<6.05', '>3.55', '<2.5', '<0.55'],\n",
       " ['<6.05', '>3.05', '<2.5', '<0.55'],\n",
       " ['>5.55', '>3.05', '>3.65', '>1.2'],\n",
       " ['<6.05', '>3.55', '<2.5', '<0.55'],\n",
       " ['<6.05', '>3.05', '<2.5', '<0.55'],\n",
       " ['>6.0', '>3.05', '>3.65', '>1.2'],\n",
       " ['<6.05', '>3.55', '<2.5', '<0.55'],\n",
       " ['<6.05', '>3.05', '<2.5', '<0.55'],\n",
       " ['>6.0', '>3.05', '>3.65', '>1.2'],\n",
       " ['<6.05', '>3.05', '<2.5', '<0.55'],\n",
       " ['<6.05', '>3.05', '<2.5', '<0.55'],\n",
       " ['<6.05', '>3.05', '<2.5', '<0.55'],\n",
       " ['>6.0', '>3.05', '>3.65', '>0.95'],\n",
       " ['>6.0', '>3.05', '>3.65', '>1.2'],\n",
       " ['>5.55', '>3.55', '<2.5', '<0.55'],\n",
       " ['>5.55', '<2.75', '>3.65', '>1.2'],\n",
       " ['<6.05', '<2.75', '>3.65', '>0.95'],\n",
       " ['<6.05', '<2.75', '>5.15', '>0.95'],\n",
       " ['<6.05', '>3.05', '<2.5', '<0.55'],\n",
       " ['<6.05', '>3.05', '<2.5', '<0.55'],\n",
       " ['<6.05', '>3.55', '<2.5', '<0.55'],\n",
       " ['<6.05', '<2.75', '>5.15', '>0.95'],\n",
       " ['>6.0', '>3.05', '>3.65', '>1.2'],\n",
       " ['>6.0', '>3.05', '>3.65', '>1.2'],\n",
       " ['<6.05', '>3.05', '<2.5', '<0.55'],\n",
       " ['<6.05', '>3.05', '<2.5', '<0.55'],\n",
       " ['>5.55', '<2.75', '>3.65', '>0.95'],\n",
       " ['<6.05', '>3.05', '<2.5', '<0.55'],\n",
       " ['>6.0', '>3.05', '>3.65', '>1.2'],\n",
       " ['<6.05', '>3.05', '<2.5', '<0.55'],\n",
       " ['>5.55', '>3.05', '>3.65', '>1.2'],\n",
       " ['<6.05', '>3.55', '<2.5', '<0.55'],\n",
       " ['<6.05', '<2.75', '>3.65', '>1.2'],\n",
       " ['>6.0', '>3.05', '>3.65', '>1.2'],\n",
       " ['>5.55', '>3.05', '>3.65', '>1.2'],\n",
       " ['<6.05', '>3.05', '<2.5', '<0.55'],\n",
       " ['<6.05', '>3.05', '<2.5', '<0.55'],\n",
       " ['>5.55', '>3.05', '>3.65', '>0.95'],\n",
       " ['<6.05', '>3.55', '<2.5', '<0.55'],\n",
       " ['<6.05', '>3.05', '<2.5', '<0.55'],\n",
       " ['>5.55', '<2.75', '>3.65', '>0.95'],\n",
       " ['>6.0', '<2.75', '>3.65', '>1.2'],\n",
       " ['>6.0', '>3.05', '>3.65', '>1.2'],\n",
       " ['>5.55', '>3.05', '>3.65', '>1.2'],\n",
       " ['>6.0', '>3.05', '>3.65', '>1.2'],\n",
       " ['<6.05', '>3.05', '<2.5', '<0.55'],\n",
       " ['<6.05', '<2.75', '>3.65', '>0.95']]"
      ]
     },
     "execution_count": 637,
     "metadata": {},
     "output_type": "execute_result"
    }
   ],
   "source": [
    "def modify_examples(train_examples, split_values):\n",
    "    train_examples=[list(i) for i in train_examples]\n",
    "    for i in range(len(train_examples)):\n",
    "        for j in range(len(train_examples[0])):\n",
    "            if train_examples[i][j]>split_values[j][2]:\n",
    "                train_examples[i][j]=\">\" + str(split_values[j][2])\n",
    "            elif train_examples[i][j]>split_values[j][1]:\n",
    "                train_examples[i][j]=\">\"+str(split_values[j][1])\n",
    "            elif train_examples[i][j]>split_values[j][0]:\n",
    "                train_examples[i][j]=\">\"+str(split_values[j][1])\n",
    "            else:\n",
    "                train_examples[i][j]=\"<\"+str(split_values[j][0])\n",
    "    return train_examples\n",
    "\n",
    "    \n",
    "change_point=[]\n",
    "for i in range(len(train_target)):\n",
    "    try:\n",
    "        if train_target[i]!=train_target[i+1]:\n",
    "            change_point.append(i)\n",
    "    except:\n",
    "        pass\n",
    "tmp_data=[]\n",
    "for i in change_point:\n",
    "    tmp_data.append((np.array(train_examples[i])+np.array(train_examples[i+1]))/2)\n",
    "tmp_data=np.array(tmp_data)\n",
    "tmp_data=np.around(tmp_data,decimals=3)\n",
    "split_values={}\n",
    "for i in range(len(attributes_iris)):\n",
    "    tmp_=tmp_data[:,i]\n",
    "    tmp_.sort()\n",
    "    tmp_=list(set(tmp_))\n",
    "    mid=int(len(tmp_)/2)\n",
    "    if mid>5:\n",
    "        tmp_=[tmp_[0],tmp_[mid],tmp_[-1]]\n",
    "    split_values[i]=tmp_\n",
    "\n",
    "train_examples=modify_examples(train_examples, split_values)\n",
    "train_examples\n",
    "            "
   ]
  },
  {
   "cell_type": "code",
   "execution_count": 639,
   "metadata": {},
   "outputs": [],
   "source": [
    "tree_iris=DecisionTreeClassifier(train_examples, train_target, attributes_iris)"
   ]
  },
  {
   "cell_type": "code",
   "execution_count": 640,
   "metadata": {},
   "outputs": [
    {
     "data": {
      "text/plain": [
       "{'petal length (cm)': {'<2.5': {'sepal length (cm)': 0},\n",
       "  '>3.65': {'sepal length (cm)': 1},\n",
       "  '>5.15': {'sepal length (cm)': 1}}}"
      ]
     },
     "execution_count": 640,
     "metadata": {},
     "output_type": "execute_result"
    }
   ],
   "source": [
    "tree_iris     #obtained trained decision tree model"
   ]
  },
  {
   "cell_type": "code",
   "execution_count": null,
   "metadata": {},
   "outputs": [],
   "source": []
  },
  {
   "cell_type": "code",
   "execution_count": null,
   "metadata": {},
   "outputs": [],
   "source": []
  },
  {
   "cell_type": "code",
   "execution_count": 641,
   "metadata": {},
   "outputs": [
    {
     "data": {
      "text/plain": [
       "[['>6.0', '>3.05', '>3.65', '>1.2'],\n",
       " ['<6.05', '<2.75', '>3.65', '>1.2'],\n",
       " ['>6.0', '>3.05', '>3.65', '>1.2'],\n",
       " ['>6.0', '<2.75', '>3.65', '>1.2'],\n",
       " ['>6.0', '>3.55', '>3.65', '>1.2'],\n",
       " ['>6.0', '>3.05', '>3.65', '>1.2'],\n",
       " ['>6.0', '<2.75', '>3.65', '>1.2'],\n",
       " ['>6.0', '>3.05', '>3.65', '>1.2'],\n",
       " ['>5.55', '<2.75', '>3.65', '>1.2'],\n",
       " ['>5.55', '>3.05', '>3.65', '>1.2'],\n",
       " ['>6.0', '>3.05', '>3.65', '>1.2'],\n",
       " ['>6.0', '>3.05', '>3.65', '>1.2'],\n",
       " ['>6.0', '>3.55', '>3.65', '>1.2'],\n",
       " ['>6.0', '<2.75', '>3.65', '>1.2'],\n",
       " ['>5.55', '<2.75', '>3.65', '>1.2'],\n",
       " ['>6.0', '>3.05', '>3.65', '>1.2'],\n",
       " ['>5.55', '>3.05', '>3.65', '>1.2'],\n",
       " ['>6.0', '>3.05', '>3.65', '>1.2'],\n",
       " ['>6.0', '<2.75', '>3.65', '>1.2'],\n",
       " ['>6.0', '>3.05', '>3.65', '>1.2'],\n",
       " ['>6.0', '>3.05', '>3.65', '>1.2'],\n",
       " ['>6.0', '>3.05', '>3.65', '>1.2'],\n",
       " ['>6.0', '>3.05', '>3.65', '>1.2'],\n",
       " ['>6.0', '>3.05', '>3.65', '>1.2'],\n",
       " ['>6.0', '>3.05', '>3.65', '>1.2'],\n",
       " ['>6.0', '>3.05', '>3.65', '>1.2'],\n",
       " ['>6.0', '>3.55', '>3.65', '>1.2'],\n",
       " ['>6.0', '>3.05', '>3.65', '>1.2'],\n",
       " ['>6.0', '>3.05', '>3.65', '>1.2'],\n",
       " ['>6.0', '<2.75', '>3.65', '>1.2'],\n",
       " ['>6.0', '>3.05', '>3.65', '>1.2'],\n",
       " ['>6.0', '>3.05', '>3.65', '>1.2'],\n",
       " ['>6.0', '>3.05', '>3.65', '>1.2'],\n",
       " ['>5.55', '>3.05', '>3.65', '>1.2'],\n",
       " ['>6.0', '>3.05', '>3.65', '>1.2'],\n",
       " ['>6.0', '>3.05', '>3.65', '>1.2'],\n",
       " ['>6.0', '>3.05', '>3.65', '>1.2'],\n",
       " ['>5.55', '<2.75', '>3.65', '>1.2'],\n",
       " ['>6.0', '>3.05', '>3.65', '>1.2'],\n",
       " ['>6.0', '>3.05', '>3.65', '>1.2'],\n",
       " ['>6.0', '>3.05', '>3.65', '>1.2'],\n",
       " ['>6.0', '<2.75', '>3.65', '>1.2'],\n",
       " ['>6.0', '>3.05', '>3.65', '>1.2'],\n",
       " ['>6.0', '>3.05', '>3.65', '>1.2'],\n",
       " ['>5.55', '>3.05', '>3.65', '>1.2']]"
      ]
     },
     "execution_count": 641,
     "metadata": {},
     "output_type": "execute_result"
    }
   ],
   "source": [
    "#testing model\n",
    "test_examples=modify_examples(test_examples, split_values)\n",
    "test_examples"
   ]
  },
  {
   "cell_type": "code",
   "execution_count": null,
   "metadata": {},
   "outputs": [],
   "source": [
    "def test_data(trained_model, row, attributes):\n",
    "    root=tree_iris.keys[0]\n",
    "    if row[attributes_iris.key(root)]\n",
    "    "
   ]
  },
  {
   "cell_type": "code",
   "execution_count": null,
   "metadata": {},
   "outputs": [],
   "source": []
  }
 ],
 "metadata": {
  "kernelspec": {
   "display_name": "Python 3",
   "language": "python",
   "name": "python3"
  },
  "language_info": {
   "codemirror_mode": {
    "name": "ipython",
    "version": 3
   },
   "file_extension": ".py",
   "mimetype": "text/x-python",
   "name": "python",
   "nbconvert_exporter": "python",
   "pygments_lexer": "ipython3",
   "version": "3.5.2"
  }
 },
 "nbformat": 4,
 "nbformat_minor": 2
}
