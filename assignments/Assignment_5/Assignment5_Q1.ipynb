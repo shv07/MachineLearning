{
 "cells": [
  {
   "cell_type": "markdown",
   "metadata": {},
   "source": [
    "## Q 1) KNN classification and regression from scratch"
   ]
  },
  {
   "cell_type": "code",
   "execution_count": 28,
   "metadata": {},
   "outputs": [],
   "source": [
    "import numpy as np\n",
    "import pandas as pd\n",
    "from matplotlib import pyplot as plt\n",
    "from scipy import stats\n",
    "from sklearn.datasets import make_classification as generate_dataset, make_regression as gen_reg_dataset\n",
    "import time"
   ]
  },
  {
   "cell_type": "code",
   "execution_count": 47,
   "metadata": {},
   "outputs": [],
   "source": [
    "def accuracy_score(y1,y2):\n",
    "    #np.reshape(y1,y2.shape)\n",
    "    count=0.0\n",
    "    for i in range(len(y1)):\n",
    "        if y1[i]==y2[i]:\n",
    "            count+=1\n",
    "    return count*100.0/len(y1)\n",
    "\n",
    "def rmse(y1,y2):\n",
    "    y1=np.array(y1)\n",
    "    y2=np.array(y2)\n",
    "    return ((sum((y1-y2)**2))/len(y1))**0.5"
   ]
  },
  {
   "cell_type": "code",
   "execution_count": 30,
   "metadata": {},
   "outputs": [],
   "source": [
    "#generating random dataset\n",
    "N=1000   #np. of datapoints\n",
    "f=20     #no. of features\n",
    "X,Y=generate_dataset(n_samples=N, n_features=f)\n",
    "Y=np.reshape(Y, (N,1))"
   ]
  },
  {
   "cell_type": "code",
   "execution_count": 31,
   "metadata": {},
   "outputs": [],
   "source": [
    "#test-train split\n",
    "def test_train(X,Y,splitx=0.7):\n",
    "    split=int(splitx*N)\n",
    "    train_X=X[:split]\n",
    "    train_Y=Y[:split]\n",
    "    test_X=X[split:]\n",
    "    ground_truth=Y[split:]\n",
    "    #print(train_X.shape)\n",
    "    #print(train_Y.shape)\n",
    "    #print(test_X.shape)\n",
    "    #print(ground_truth.shape)\n",
    "    return [train_X, train_Y, test_X, ground_truth]"
   ]
  },
  {
   "cell_type": "code",
   "execution_count": 32,
   "metadata": {},
   "outputs": [],
   "source": [
    "[train_X, train_Y, test_X, ground_truth]=test_train(X,Y)"
   ]
  },
  {
   "cell_type": "code",
   "execution_count": 33,
   "metadata": {},
   "outputs": [],
   "source": [
    "#distance functions\n",
    "#O(d) complexity\n",
    "def Euclidean(X,Y):#, ’Manhattan’ or ’Cosine’\n",
    "    X=np.array(X)\n",
    "    Y=np.array(Y)\n",
    "    return (sum((X-Y)**2))**0.5      \n",
    "\n",
    "def Manhattan(X,Y):\n",
    "    X=np.array(X)\n",
    "    Y=np.array(Y)\n",
    "    return sum(np.abs(X-Y))\n",
    "\n",
    "def Cosine(X,Y):\n",
    "    X=np.array(X)\n",
    "    Y=np.array(Y)\n",
    "    return 1-(sum(X*Y)/(np.linalg.norm(X)*np.linalg.norm(Y)))"
   ]
  },
  {
   "cell_type": "code",
   "execution_count": 34,
   "metadata": {},
   "outputs": [],
   "source": [
    "#KNN Algorithm\n",
    "def KNN_predict(train_X, train_Y, test_X, K=3, distance_metric=Euclidean, typ='classification'):\n",
    "    predict=[]\n",
    "    for x1 in test_X:\n",
    "        distances=[]\n",
    "        for index, x2 in enumerate(train_X):\n",
    "            distances.append((index, distance_metric(x1,x2)))\n",
    "        sorted_d=sorted(distances, key=lambda x: x[1])\n",
    "        knn_classes=[]\n",
    "        for i in sorted_d[:K]:\n",
    "            knn_classes.append(train_Y[i[0]])\n",
    "        if typ=='classification':\n",
    "            predict.append(stats.mode(knn_classes).mode[0])\n",
    "        else:\n",
    "            predict.append(np.mean(knn_classes))\n",
    "    return predict"
   ]
  },
  {
   "cell_type": "markdown",
   "metadata": {},
   "source": [
    "## Accuracy scores for KNN classification for diff. Dist. Metrices"
   ]
  },
  {
   "cell_type": "code",
   "execution_count": 35,
   "metadata": {},
   "outputs": [
    {
     "name": "stdout",
     "output_type": "stream",
     "text": [
      "Accuracy Score  <function Euclidean at 0x7f90fc193d08> = 86.0\n",
      "Accuracy Score  <function Manhattan at 0x7f90fc193f28> = 88.0\n",
      "Accuracy Score  <function Cosine at 0x7f90fe2d0158> = 85.66666666666667\n"
     ]
    }
   ],
   "source": [
    "for i in [Euclidean, Manhattan, Cosine]:\n",
    "    test_pred=KNN_predict(train_X, train_Y, test_X, 8, distance_metric=i, typ='classification')\n",
    "    print(\"Accuracy Score \",i, \"=\", accuracy_score(ground_truth, test_pred))"
   ]
  },
  {
   "cell_type": "code",
   "execution_count": null,
   "metadata": {},
   "outputs": [],
   "source": []
  },
  {
   "cell_type": "markdown",
   "metadata": {},
   "source": [
    "## KNN Regression"
   ]
  },
  {
   "cell_type": "code",
   "execution_count": 38,
   "metadata": {},
   "outputs": [
    {
     "name": "stdout",
     "output_type": "stream",
     "text": [
      "RMSE Score  <function Euclidean at 0x7f90fc193d08> = 83.32154060496477\n",
      "RMSE Score  <function Manhattan at 0x7f90fc193f28> = 93.11214090612081\n",
      "RMSE Score  <function Cosine at 0x7f90fe2d0158> = 75.86339514008378\n",
      "\n",
      "\n",
      "Train Errors:\n",
      "\n",
      "RMSE Score  <function Euclidean at 0x7f90fc193d08> = 69.6112394381999\n",
      "RMSE Score  <function Manhattan at 0x7f90fc193f28> = 74.72986953317599\n",
      "RMSE Score  <function Cosine at 0x7f90fe2d0158> = 66.06933734604952\n"
     ]
    }
   ],
   "source": [
    "X,Y= gen_reg_dataset(n_samples=1000, n_features=20)\n",
    "[train_X, train_Y, test_X, ground_truth]=test_train(X,Y)\n",
    "for i in [Euclidean, Manhattan, Cosine]:\n",
    "    test_pred=KNN_predict(train_X, train_Y, test_X, 10, distance_metric=i, typ='regression')\n",
    "    print(\"RMSE Score \",i, \"=\", rmse(ground_truth,test_pred))\n",
    "print(\"\\n\\nTrain Errors:\\n\")\n",
    "for i in [Euclidean, Manhattan, Cosine]:\n",
    "    train_pred=KNN_predict(train_X, train_Y, train_X, 10, distance_metric=i, typ='regression')\n",
    "    print(\"RMSE Score \",i, \"=\", rmse(train_Y,train_pred))"
   ]
  },
  {
   "cell_type": "markdown",
   "metadata": {},
   "source": [
    "The train and test RMSE values are similar, hence denoting the reliability of the learned model"
   ]
  },
  {
   "cell_type": "markdown",
   "metadata": {},
   "source": [
    "## 1b)"
   ]
  },
  {
   "cell_type": "markdown",
   "metadata": {},
   "source": [
    "Finding the variation in runtime of the KNN classification algorithm with changing features and number of data points (Almost same for Regression case)"
   ]
  },
  {
   "cell_type": "code",
   "execution_count": 19,
   "metadata": {},
   "outputs": [],
   "source": [
    "# for different dimension and constant number of data points\n",
    "f_set=[]\n",
    "f_time=[]\n",
    "for f in range(5,100,3):\n",
    "    X,Y=generate_dataset(n_samples=1000, n_features=f, n_informative=f-2)\n",
    "    [train_X, train_Y, test_X, ground_truth]=test_train(X,Y)\n",
    "    start=time.time()\n",
    "    test_pred=KNN_predict(train_X, train_Y, test_X, K=8, distance_metric=i, typ='classification')\n",
    "    end=time.time()\n",
    "    f_set.append(f)\n",
    "    f_time.append(end-start)"
   ]
  },
  {
   "cell_type": "code",
   "execution_count": null,
   "metadata": {},
   "outputs": [],
   "source": []
  },
  {
   "cell_type": "code",
   "execution_count": null,
   "metadata": {},
   "outputs": [],
   "source": []
  },
  {
   "cell_type": "code",
   "execution_count": 20,
   "metadata": {},
   "outputs": [
    {
     "data": {
      "text/plain": [
       "[<matplotlib.lines.Line2D at 0x7f90fe2d2358>]"
      ]
     },
     "execution_count": 20,
     "metadata": {},
     "output_type": "execute_result"
    },
    {
     "data": {
      "image/png": "[encoded data removed]",
      "text/plain": [
       "<Figure size 432x288 with 1 Axes>"
      ]
     },
     "metadata": {
      "needs_background": "light"
     },
     "output_type": "display_data"
    }
   ],
   "source": [
    "plt.title(\"Run Time of KNN classification (for K = 8) v/s Dimension\")\n",
    "plt.plot(f_set,f_time)"
   ]
  },
  {
   "cell_type": "code",
   "execution_count": null,
   "metadata": {},
   "outputs": [],
   "source": []
  },
  {
   "cell_type": "code",
   "execution_count": 53,
   "metadata": {},
   "outputs": [],
   "source": [
    "# for constant dimension and diff number of data points\n",
    "N_set=[]\n",
    "N_time=[]\n",
    "for n in range(1000,4000,100):\n",
    "    X,Y=generate_dataset(n_samples=n)\n",
    "    [train_X, train_Y, test_X, ground_truth]=test_train(X,Y)\n",
    "    start=time.time()\n",
    "    test_pred=KNN_predict(train_X, train_Y, test_X, K=8, distance_metric=i, typ='classification')\n",
    "    end=time.time()\n",
    "    N_set.append(n)\n",
    "    N_time.append(end-start)"
   ]
  },
  {
   "cell_type": "code",
   "execution_count": 54,
   "metadata": {},
   "outputs": [
    {
     "data": {
      "text/plain": [
       "[<matplotlib.lines.Line2D at 0x7f90fa9c3198>]"
      ]
     },
     "execution_count": 54,
     "metadata": {},
     "output_type": "execute_result"
    },
    {
     "data": {
      "image/png": "[encoded data removed]",
      "text/plain": [
       "<Figure size 432x288 with 1 Axes>"
      ]
     },
     "metadata": {
      "needs_background": "light"
     },
     "output_type": "display_data"
    }
   ],
   "source": [
    "plt.title(\"Run Time (in seconds) of KNN classification (for K = 8) v/s Number of  data points\")\n",
    "plt.plot(N_set, N_time)"
   ]
  },
  {
   "cell_type": "markdown",
   "metadata": {},
   "source": [
    "## Comparison with theoretical runtime\n",
    "\n",
    "Theoretically, the run time has a linearly increasing relationship with the dimension of data points. This is visible in the first graph. The relationship with no. of data points is also the same as is visible in the 2nd graph. The small differences can be attributed to the hardware. O(kn+dn) for predicting each data point"
   ]
  },
  {
   "cell_type": "code",
   "execution_count": null,
   "metadata": {},
   "outputs": [],
   "source": []
  },
  {
   "cell_type": "code",
   "execution_count": null,
   "metadata": {},
   "outputs": [],
   "source": []
  },
  {
   "cell_type": "markdown",
   "metadata": {},
   "source": [
    "## Comparing the model for regression with the inbuilt regression model of sklearn"
   ]
  },
  {
   "cell_type": "code",
   "execution_count": 42,
   "metadata": {},
   "outputs": [],
   "source": [
    "from sklearn.neighbors import KNeighborsRegressor as KNNr\n"
   ]
  },
  {
   "cell_type": "code",
   "execution_count": 48,
   "metadata": {},
   "outputs": [
    {
     "data": {
      "text/plain": [
       "108.48324228021667"
      ]
     },
     "execution_count": 48,
     "metadata": {},
     "output_type": "execute_result"
    }
   ],
   "source": [
    "X,Y= gen_reg_dataset(n_samples=1000, n_features=20)\n",
    "[train_X, train_Y, test_X, ground_truth]=test_train(X,Y)\n",
    "knnr=KNNr(n_neighbors=5)\n",
    "knnr.fit(train_X, train_Y)\n",
    "y_=knnr.predict(test_X)\n",
    "rmse(y_, ground_truth)"
   ]
  },
  {
   "cell_type": "markdown",
   "metadata": {},
   "source": [
    "The rmse for regression is near about 100 for both sklearn's and my own model"
   ]
  },
  {
   "cell_type": "code",
   "execution_count": null,
   "metadata": {},
   "outputs": [],
   "source": []
  }
 ],
 "metadata": {
  "kernelspec": {
   "display_name": "Python 3",
   "language": "python",
   "name": "python3"
  },
  "language_info": {
   "codemirror_mode": {
    "name": "ipython",
    "version": 3
   },
   "file_extension": ".py",
   "mimetype": "text/x-python",
   "name": "python",
   "nbconvert_exporter": "python",
   "pygments_lexer": "ipython3",
   "version": "3.5.2"
  }
 },
 "nbformat": 4,
 "nbformat_minor": 2
}
