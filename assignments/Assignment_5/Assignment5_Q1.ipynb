{
 "cells": [
  {
   "cell_type": "code",
   "execution_count": 49,
   "metadata": {},
   "outputs": [],
   "source": [
    "import numpy as np\n",
    "import pandas as pd\n",
    "from matplotlib import pyplot as plt\n",
    "from scipy import stats\n",
    "from sklearn.datasets import make_classification as generate_dataset, make_regression as gen_reg_dataset\n",
    "import time"
   ]
  },
  {
   "cell_type": "code",
   "execution_count": 2,
   "metadata": {},
   "outputs": [],
   "source": [
    "def accuracy_score(y1,y2):\n",
    "    #np.reshape(y1,y2.shape)\n",
    "    count=0.0\n",
    "    for i in range(len(y1)):\n",
    "        if y1[i]==y2[i]:\n",
    "            count+=1\n",
    "    return count*100.0/len(y1)"
   ]
  },
  {
   "cell_type": "code",
   "execution_count": 3,
   "metadata": {},
   "outputs": [],
   "source": [
    "N=1000\n",
    "X,Y=generate_dataset(n_samples=1000, n_features=20)\n",
    "Y=np.reshape(Y, (1000,1))"
   ]
  },
  {
   "cell_type": "code",
   "execution_count": 43,
   "metadata": {},
   "outputs": [],
   "source": [
    "#test-train split\n",
    "def test_train(X,Y,splitx=0.7):\n",
    "    split=int(splitx*N)\n",
    "    train_X=X[:split]\n",
    "    train_Y=Y[:split]\n",
    "    test_X=X[split:]\n",
    "    ground_truth=Y[split:]\n",
    "    #print(train_X.shape)\n",
    "    #print(train_Y.shape)\n",
    "    #print(test_X.shape)\n",
    "    #print(ground_truth.shape)\n",
    "    return [train_X, train_Y, test_X, ground_truth]"
   ]
  },
  {
   "cell_type": "code",
   "execution_count": 44,
   "metadata": {},
   "outputs": [],
   "source": [
    "[train_X, train_Y, test_X, ground_truth]=test_train(X,Y)"
   ]
  },
  {
   "cell_type": "code",
   "execution_count": 12,
   "metadata": {},
   "outputs": [],
   "source": [
    "#distance functions\n",
    "def Euclidean(X,Y):#, ’Manhattan’ or ’Cosine’\n",
    "    X=np.array(X)\n",
    "    Y=np.array(Y)\n",
    "    return (sum((X-Y)**2))**0.5\n",
    "\n",
    "def Manhattan(X,Y):\n",
    "    X=np.array(X)\n",
    "    Y=np.array(Y)\n",
    "    return sum(np.abs(X-Y))\n",
    "\n",
    "def Cosine(X,Y):\n",
    "    X=np.array(X)\n",
    "    Y=np.array(Y)\n",
    "    return 1-(sum(X*Y)/(np.linalg.norm(X)*np.linalg.norm(Y)))"
   ]
  },
  {
   "cell_type": "code",
   "execution_count": 39,
   "metadata": {},
   "outputs": [],
   "source": [
    "#KNN Algorithm\n",
    "def KNN_predict(train_X, train_Y, test_X, K=3, distance_metric=Euclidean, typ='classification'):\n",
    "    predict=[]\n",
    "    for x1 in test_X:\n",
    "        distances=[]\n",
    "        for index, x2 in enumerate(train_X):\n",
    "            distances.append((index, distance_metric(x1,x2)))\n",
    "        sorted_d=sorted(distances, key=lambda x: x[1])\n",
    "        knn_classes=[]\n",
    "        for i in sorted_d[:K]:\n",
    "            knn_classes.append(train_Y[i[0]])\n",
    "        if typ=='classification':\n",
    "            predict.append(stats.mode(knn_classes).mode[0])\n",
    "        else:\n",
    "            predict.append(np.mean(knn_classes))\n",
    "    return predict"
   ]
  },
  {
   "cell_type": "code",
   "execution_count": 13,
   "metadata": {},
   "outputs": [
    {
     "name": "stdout",
     "output_type": "stream",
     "text": [
      "Accuracy Score  <function Euclidean at 0x7f2f26e95a60> = 85.0\n",
      "Accuracy Score  <function Manhattan at 0x7f2f26e95bf8> = 89.0\n",
      "Accuracy Score  <function Cosine at 0x7f2f26e951e0> = 86.33333333333333\n"
     ]
    }
   ],
   "source": [
    "for i in [Euclidean, Manhattan, Cosine]:\n",
    "    test_pred=KNN_predict(train_X, train_Y, test_X, 8, distance_metric=i, typ='classification')\n",
    "    print(\"Accuracy Score \",i, \"=\", accuracy_score(ground_truth, test_pred))"
   ]
  },
  {
   "cell_type": "code",
   "execution_count": null,
   "metadata": {},
   "outputs": [],
   "source": []
  },
  {
   "cell_type": "markdown",
   "metadata": {},
   "source": [
    "## Regression"
   ]
  },
  {
   "cell_type": "code",
   "execution_count": 48,
   "metadata": {},
   "outputs": [
    {
     "name": "stdout",
     "output_type": "stream",
     "text": [
      "RMSE Score  <function Euclidean at 0x7f2f26e95a60> = 108.02164229373966\n",
      "RMSE Score  <function Manhattan at 0x7f2f26e95bf8> = 116.04601386452813\n",
      "RMSE Score  <function Cosine at 0x7f2f26e951e0> = 99.47125583231728\n",
      "\n",
      "\n",
      "Train Errors:\n",
      "\n",
      "RMSE Score  <function Euclidean at 0x7f2f26e95a60> = 94.35345663791023\n",
      "RMSE Score  <function Manhattan at 0x7f2f26e95bf8> = 97.5966121335789\n",
      "RMSE Score  <function Cosine at 0x7f2f26e951e0> = 86.9461874531647\n"
     ]
    }
   ],
   "source": [
    "X,Y= gen_reg_dataset(n_samples=1000, n_features=20)\n",
    "[train_X, train_Y, test_X, ground_truth]=test_train(X,Y)\n",
    "for i in [Euclidean, Manhattan, Cosine]:\n",
    "    test_pred=KNN_predict(train_X, train_Y, test_X, 8, distance_metric=i, typ='regression')\n",
    "    print(\"RMSE Score \",i, \"=\", ( sum( (ground_truth-test_pred)**2 )/len(test_pred) ) **0.5)\n",
    "print(\"\\n\\nTrain Errors:\\n\")\n",
    "for i in [Euclidean, Manhattan, Cosine]:\n",
    "    train_pred=KNN_predict(train_X, train_Y, train_X, 8, distance_metric=i, typ='regression')\n",
    "    print(\"RMSE Score \",i, \"=\", ( sum( (train_Y-train_pred)**2 )/len(train_pred) ) **0.5)"
   ]
  },
  {
   "cell_type": "markdown",
   "metadata": {},
   "source": [
    "The train and test RMSE values are similar, hence denoting the reliability of the learned model"
   ]
  },
  {
   "cell_type": "code",
   "execution_count": null,
   "metadata": {},
   "outputs": [],
   "source": []
  },
  {
   "cell_type": "markdown",
   "metadata": {},
   "source": [
    "## 1b)"
   ]
  },
  {
   "cell_type": "markdown",
   "metadata": {},
   "source": [
    "Finding the variation in runtime of the KNN classification algorithm with changing features and number of data points (Almost same for Regression case)"
   ]
  },
  {
   "cell_type": "code",
   "execution_count": 71,
   "metadata": {},
   "outputs": [],
   "source": [
    "# for different dimension and constant number of data points\n",
    "f_set=[]\n",
    "f_time=[]\n",
    "for f in range(5,100,3):\n",
    "    X,Y=generate_dataset(n_samples=1000, n_features=f, n_informative=f-2)\n",
    "    [train_X, train_Y, test_X, ground_truth]=test_train(X,Y)\n",
    "    start=time.time()\n",
    "    test_pred=KNN_predict(train_X, train_Y, test_X, K=8, distance_metric=i, typ='classification')\n",
    "    end=time.time()\n",
    "    f_set.append(f)\n",
    "    f_time.append(end-start)"
   ]
  },
  {
   "cell_type": "code",
   "execution_count": null,
   "metadata": {},
   "outputs": [],
   "source": []
  },
  {
   "cell_type": "code",
   "execution_count": null,
   "metadata": {},
   "outputs": [],
   "source": []
  },
  {
   "cell_type": "code",
   "execution_count": 73,
   "metadata": {},
   "outputs": [
    {
     "data": {
      "text/plain": [
       "[<matplotlib.lines.Line2D at 0x7f2f24c176d8>]"
      ]
     },
     "execution_count": 73,
     "metadata": {},
     "output_type": "execute_result"
    },
    {
     "data": {
      "image/png": "[encoded data removed]",
      "text/plain": [
       "<Figure size 432x288 with 1 Axes>"
      ]
     },
     "metadata": {
      "needs_background": "light"
     },
     "output_type": "display_data"
    }
   ],
   "source": [
    "plt.title(\"Run Time of KNN classification (for K = 8) v/s Dimension\")\n",
    "plt.plot(f_set,f_time)"
   ]
  },
  {
   "cell_type": "code",
   "execution_count": null,
   "metadata": {},
   "outputs": [],
   "source": []
  },
  {
   "cell_type": "code",
   "execution_count": 64,
   "metadata": {},
   "outputs": [],
   "source": [
    "# for constant dimension and diff number of data points\n",
    "N_set=[]\n",
    "N_time=[]\n",
    "for n in range(100,2000,50):\n",
    "    X,Y=generate_dataset(n_samples=n)\n",
    "    [train_X, train_Y, test_X, ground_truth]=test_train(X,Y)\n",
    "    start=time.time()\n",
    "    test_pred=KNN_predict(train_X, train_Y, test_X, K=8, distance_metric=i, typ='classification')\n",
    "    end=time.time()\n",
    "    N_set.append(n)\n",
    "    N_time.append(end-start)"
   ]
  },
  {
   "cell_type": "code",
   "execution_count": 70,
   "metadata": {},
   "outputs": [
    {
     "data": {
      "text/plain": [
       "[<matplotlib.lines.Line2D at 0x7f2f24ca10b8>]"
      ]
     },
     "execution_count": 70,
     "metadata": {},
     "output_type": "execute_result"
    },
    {
     "data": {
      "image/png": "[encoded data removed]",
      "text/plain": [
       "<Figure size 432x288 with 1 Axes>"
      ]
     },
     "metadata": {
      "needs_background": "light"
     },
     "output_type": "display_data"
    }
   ],
   "source": [
    "plt.title(\"Run Time (in seconds) of KNN classification (for K = 8) v/s Number of  data points\")\n",
    "plt.plot(N_set, N_time)"
   ]
  },
  {
   "cell_type": "code",
   "execution_count": null,
   "metadata": {},
   "outputs": [],
   "source": []
  },
  {
   "cell_type": "code",
   "execution_count": null,
   "metadata": {},
   "outputs": [],
   "source": []
  }
 ],
 "metadata": {
  "kernelspec": {
   "display_name": "Python 3",
   "language": "python",
   "name": "python3"
  },
  "language_info": {
   "codemirror_mode": {
    "name": "ipython",
    "version": 3
   },
   "file_extension": ".py",
   "mimetype": "text/x-python",
   "name": "python",
   "nbconvert_exporter": "python",
   "pygments_lexer": "ipython3",
   "version": "3.5.2"
  }
 },
 "nbformat": 4,
 "nbformat_minor": 2
}
