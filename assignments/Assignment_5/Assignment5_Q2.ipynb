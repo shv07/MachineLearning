{
 "cells": [
  {
   "cell_type": "code",
   "execution_count": null,
   "metadata": {},
   "outputs": [],
   "source": [
    "#references\n",
    "'''\n",
    "1. https://scipy.github.io/devdocs/generated/scipy.spatial.voronoi_plot_2d.html \n",
    "2. https://chrisalbon.com/machine_learning/model_evaluation/nested_cross_validation/\n",
    "3. https://scikit-learn.org/stable/modules/generated/sklearn.model_selection.KFold.html\n",
    "4. https://scikit-learn.org/stable/modules/generated/sklearn.preprocessing.MinMaxScaler.html\n",
    "'''"
   ]
  },
  {
   "cell_type": "code",
   "execution_count": 60,
   "metadata": {},
   "outputs": [],
   "source": [
    "from sklearn.neighbors import KNeighborsRegressor as KNN\n",
    "from sklearn.model_selection import train_test_split, KFold\n",
    "import numpy as np\n",
    "import matplotlib.pyplot as plt\n",
    "import time\n",
    "import pandas as pd\n",
    "\n",
    "def rmse(y1,y2):\n",
    "    return ((sum((y1-y2)**2))/len(y1))**0.5"
   ]
  },
  {
   "cell_type": "code",
   "execution_count": 61,
   "metadata": {},
   "outputs": [
    {
     "data": {
      "text/html": [
       "<div>\n",
       "<style scoped>\n",
       "    .dataframe tbody tr th:only-of-type {\n",
       "        vertical-align: middle;\n",
       "    }\n",
       "\n",
       "    .dataframe tbody tr th {\n",
       "        vertical-align: top;\n",
       "    }\n",
       "\n",
       "    .dataframe thead th {\n",
       "        text-align: right;\n",
       "    }\n",
       "</style>\n",
       "<table border=\"1\" class=\"dataframe\">\n",
       "  <thead>\n",
       "    <tr style=\"text-align: right;\">\n",
       "      <th></th>\n",
       "      <th>No</th>\n",
       "      <th>X1 transaction date</th>\n",
       "      <th>X2 house age</th>\n",
       "      <th>X3 distance to the nearest MRT station</th>\n",
       "      <th>X4 number of convenience stores</th>\n",
       "      <th>X5 latitude</th>\n",
       "      <th>X6 longitude</th>\n",
       "      <th>Y house price of unit area</th>\n",
       "    </tr>\n",
       "  </thead>\n",
       "  <tbody>\n",
       "    <tr>\n",
       "      <th>0</th>\n",
       "      <td>1</td>\n",
       "      <td>2012.916667</td>\n",
       "      <td>32.0</td>\n",
       "      <td>84.87882</td>\n",
       "      <td>10</td>\n",
       "      <td>24.98298</td>\n",
       "      <td>121.54024</td>\n",
       "      <td>37.9</td>\n",
       "    </tr>\n",
       "    <tr>\n",
       "      <th>1</th>\n",
       "      <td>2</td>\n",
       "      <td>2012.916667</td>\n",
       "      <td>19.5</td>\n",
       "      <td>306.59470</td>\n",
       "      <td>9</td>\n",
       "      <td>24.98034</td>\n",
       "      <td>121.53951</td>\n",
       "      <td>42.2</td>\n",
       "    </tr>\n",
       "    <tr>\n",
       "      <th>2</th>\n",
       "      <td>3</td>\n",
       "      <td>2013.583333</td>\n",
       "      <td>13.3</td>\n",
       "      <td>561.98450</td>\n",
       "      <td>5</td>\n",
       "      <td>24.98746</td>\n",
       "      <td>121.54391</td>\n",
       "      <td>47.3</td>\n",
       "    </tr>\n",
       "    <tr>\n",
       "      <th>3</th>\n",
       "      <td>4</td>\n",
       "      <td>2013.500000</td>\n",
       "      <td>13.3</td>\n",
       "      <td>561.98450</td>\n",
       "      <td>5</td>\n",
       "      <td>24.98746</td>\n",
       "      <td>121.54391</td>\n",
       "      <td>54.8</td>\n",
       "    </tr>\n",
       "    <tr>\n",
       "      <th>4</th>\n",
       "      <td>5</td>\n",
       "      <td>2012.833333</td>\n",
       "      <td>5.0</td>\n",
       "      <td>390.56840</td>\n",
       "      <td>5</td>\n",
       "      <td>24.97937</td>\n",
       "      <td>121.54245</td>\n",
       "      <td>43.1</td>\n",
       "    </tr>\n",
       "    <tr>\n",
       "      <th>5</th>\n",
       "      <td>6</td>\n",
       "      <td>2012.666667</td>\n",
       "      <td>7.1</td>\n",
       "      <td>2175.03000</td>\n",
       "      <td>3</td>\n",
       "      <td>24.96305</td>\n",
       "      <td>121.51254</td>\n",
       "      <td>32.1</td>\n",
       "    </tr>\n",
       "    <tr>\n",
       "      <th>6</th>\n",
       "      <td>7</td>\n",
       "      <td>2012.666667</td>\n",
       "      <td>34.5</td>\n",
       "      <td>623.47310</td>\n",
       "      <td>7</td>\n",
       "      <td>24.97933</td>\n",
       "      <td>121.53642</td>\n",
       "      <td>40.3</td>\n",
       "    </tr>\n",
       "    <tr>\n",
       "      <th>7</th>\n",
       "      <td>8</td>\n",
       "      <td>2013.416667</td>\n",
       "      <td>20.3</td>\n",
       "      <td>287.60250</td>\n",
       "      <td>6</td>\n",
       "      <td>24.98042</td>\n",
       "      <td>121.54228</td>\n",
       "      <td>46.7</td>\n",
       "    </tr>\n",
       "    <tr>\n",
       "      <th>8</th>\n",
       "      <td>9</td>\n",
       "      <td>2013.500000</td>\n",
       "      <td>31.7</td>\n",
       "      <td>5512.03800</td>\n",
       "      <td>1</td>\n",
       "      <td>24.95095</td>\n",
       "      <td>121.48458</td>\n",
       "      <td>18.8</td>\n",
       "    </tr>\n",
       "    <tr>\n",
       "      <th>9</th>\n",
       "      <td>10</td>\n",
       "      <td>2013.416667</td>\n",
       "      <td>17.9</td>\n",
       "      <td>1783.18000</td>\n",
       "      <td>3</td>\n",
       "      <td>24.96731</td>\n",
       "      <td>121.51486</td>\n",
       "      <td>22.1</td>\n",
       "    </tr>\n",
       "  </tbody>\n",
       "</table>\n",
       "</div>"
      ],
      "text/plain": [
       "   No  X1 transaction date  X2 house age  \\\n",
       "0   1          2012.916667          32.0   \n",
       "1   2          2012.916667          19.5   \n",
       "2   3          2013.583333          13.3   \n",
       "3   4          2013.500000          13.3   \n",
       "4   5          2012.833333           5.0   \n",
       "5   6          2012.666667           7.1   \n",
       "6   7          2012.666667          34.5   \n",
       "7   8          2013.416667          20.3   \n",
       "8   9          2013.500000          31.7   \n",
       "9  10          2013.416667          17.9   \n",
       "\n",
       "   X3 distance to the nearest MRT station  X4 number of convenience stores  \\\n",
       "0                                84.87882                               10   \n",
       "1                               306.59470                                9   \n",
       "2                               561.98450                                5   \n",
       "3                               561.98450                                5   \n",
       "4                               390.56840                                5   \n",
       "5                              2175.03000                                3   \n",
       "6                               623.47310                                7   \n",
       "7                               287.60250                                6   \n",
       "8                              5512.03800                                1   \n",
       "9                              1783.18000                                3   \n",
       "\n",
       "   X5 latitude  X6 longitude  Y house price of unit area  \n",
       "0     24.98298     121.54024                        37.9  \n",
       "1     24.98034     121.53951                        42.2  \n",
       "2     24.98746     121.54391                        47.3  \n",
       "3     24.98746     121.54391                        54.8  \n",
       "4     24.97937     121.54245                        43.1  \n",
       "5     24.96305     121.51254                        32.1  \n",
       "6     24.97933     121.53642                        40.3  \n",
       "7     24.98042     121.54228                        46.7  \n",
       "8     24.95095     121.48458                        18.8  \n",
       "9     24.96731     121.51486                        22.1  "
      ]
     },
     "execution_count": 61,
     "metadata": {},
     "output_type": "execute_result"
    }
   ],
   "source": [
    "filname='Real estate valuation data set.xlsx'\n",
    "df=pd.read_excel(filname)\n",
    "df[:10]"
   ]
  },
  {
   "cell_type": "markdown",
   "metadata": {},
   "source": [
    "As is visible the features are not in same scale."
   ]
  },
  {
   "cell_type": "code",
   "execution_count": 62,
   "metadata": {},
   "outputs": [],
   "source": [
    "X=np.array(df)[:,:-1]\n",
    "y=np.array(df)[:,-1]"
   ]
  },
  {
   "cell_type": "code",
   "execution_count": 63,
   "metadata": {},
   "outputs": [
    {
     "data": {
      "text/plain": [
       "(414, 7)"
      ]
     },
     "execution_count": 63,
     "metadata": {},
     "output_type": "execute_result"
    }
   ],
   "source": [
    "X.shape"
   ]
  },
  {
   "cell_type": "code",
   "execution_count": 64,
   "metadata": {},
   "outputs": [
    {
     "data": {
      "text/plain": [
       "(414,)"
      ]
     },
     "execution_count": 64,
     "metadata": {},
     "output_type": "execute_result"
    }
   ],
   "source": [
    "y.shape"
   ]
  },
  {
   "cell_type": "code",
   "execution_count": 65,
   "metadata": {},
   "outputs": [],
   "source": [
    "X_train, X_test, y_train, y_test = train_test_split(X, y)"
   ]
  },
  {
   "cell_type": "code",
   "execution_count": null,
   "metadata": {},
   "outputs": [],
   "source": []
  },
  {
   "cell_type": "code",
   "execution_count": null,
   "metadata": {},
   "outputs": [],
   "source": []
  },
  {
   "cell_type": "code",
   "execution_count": null,
   "metadata": {},
   "outputs": [],
   "source": []
  },
  {
   "cell_type": "markdown",
   "metadata": {},
   "source": [
    "## 2a) K-Fold Cross Validation"
   ]
  },
  {
   "cell_type": "code",
   "execution_count": 66,
   "metadata": {},
   "outputs": [],
   "source": [
    "def K_fold_cv( X, y, param_list=0, cv=5):\n",
    "    kf=KFold(n_splits=cv)\n",
    "    K_val=list(range(1,25,2))\n",
    "    K_Opt=[]\n",
    "    train_errors=[]\n",
    "    test_errors=[]\n",
    "    valdn_errors=[]\n",
    "    for train_index, test_index in kf.split(X,y):\n",
    "        X_train=X[train_index]\n",
    "        y_train=y[train_index]\n",
    "        X_test=X[test_index]\n",
    "        y_test=y[test_index]\n",
    "        \n",
    "        mean_errors=[]  #to store mean error for each k for each fold to get the opt k\n",
    "        for k in K_val:\n",
    "            knn=KNN(n_neighbors=k)\n",
    "            error=0\n",
    "            for tri, tsi in kf.split(X_train, y_train):\n",
    "                X_train__=X_train[tri]\n",
    "                y_train__=y_train[tri]\n",
    "                X_vald=X_train[tsi]\n",
    "                y_vald=y_train[tsi]\n",
    "                knn.fit(X_train__, y_train__)\n",
    "                y_pred=knn.predict(X_vald)\n",
    "                error+=rmse(y_pred, y_vald)\n",
    "            mean_errors.append(error/cv)\n",
    "        k_opt=K_val[mean_errors.index(min(mean_errors))]\n",
    "        #print(mean_errors)\n",
    "        K_Opt.append(k_opt)\n",
    "        knn_=KNN(n_neighbors=k_opt)\n",
    "        knn_.fit(X_train, y_train)\n",
    "        \n",
    "        train_errors.append(rmse(knn_.predict(X_train),y_train))\n",
    "        test_errors.append(rmse(knn_.predict(X_test),y_test))\n",
    "        valdn_errors.append(min(mean_errors))\n",
    "    return [K_Opt, train_errors, test_errors, valdn_errors]"
   ]
  },
  {
   "cell_type": "code",
   "execution_count": 67,
   "metadata": {},
   "outputs": [],
   "source": [
    "[K_Opt, train_errors, test_errors, valdn_errors] = K_fold_cv(X, y,1, cv=5)"
   ]
  },
  {
   "cell_type": "code",
   "execution_count": 68,
   "metadata": {},
   "outputs": [
    {
     "name": "stdout",
     "output_type": "stream",
     "text": [
      "The optimum values of K as found for each fold:  [17, 17, 17, 23, 23]\n"
     ]
    }
   ],
   "source": [
    "print(\"The optimum values of K as found for each fold: \",K_Opt)"
   ]
  },
  {
   "cell_type": "code",
   "execution_count": 69,
   "metadata": {},
   "outputs": [
    {
     "data": {
      "text/plain": [
       "array([8.88480694, 8.53453539, 8.48922001, 7.77691774, 8.82067931])"
      ]
     },
     "execution_count": 69,
     "metadata": {},
     "output_type": "execute_result"
    }
   ],
   "source": [
    "np.array(train_errors)"
   ]
  },
  {
   "cell_type": "code",
   "execution_count": 70,
   "metadata": {},
   "outputs": [
    {
     "data": {
      "text/plain": [
       "array([ 7.65593063,  9.36352325,  8.43829182, 11.56886259,  7.46480378])"
      ]
     },
     "execution_count": 70,
     "metadata": {},
     "output_type": "execute_result"
    }
   ],
   "source": [
    "np.array(test_errors)"
   ]
  },
  {
   "cell_type": "code",
   "execution_count": 85,
   "metadata": {},
   "outputs": [
    {
     "data": {
      "text/plain": [
       "array([9.27812015, 8.64326735, 9.35308464, 8.32382085, 9.1629077 ])"
      ]
     },
     "execution_count": 85,
     "metadata": {},
     "output_type": "execute_result"
    }
   ],
   "source": [
    "np.array(valdn_errors)"
   ]
  },
  {
   "cell_type": "code",
   "execution_count": null,
   "metadata": {},
   "outputs": [],
   "source": []
  },
  {
   "cell_type": "markdown",
   "metadata": {},
   "source": [
    "## 2b) KNN with Scaling the features in range [0,1]"
   ]
  },
  {
   "cell_type": "code",
   "execution_count": 72,
   "metadata": {},
   "outputs": [
    {
     "data": {
      "text/plain": [
       "[(414, 7), (414,)]"
      ]
     },
     "execution_count": 72,
     "metadata": {},
     "output_type": "execute_result"
    }
   ],
   "source": [
    "[X.shape, y.shape]   #verifying that X, y correspond to the total data"
   ]
  },
  {
   "cell_type": "code",
   "execution_count": 73,
   "metadata": {},
   "outputs": [],
   "source": [
    "#scaling the data in range(0,1)\n",
    "X_=np.copy(X)\n",
    "for i in range(len(X_[0])):\n",
    "    X_[:,i,]=X_[:,i]/max(X_[:,i])\n",
    "[K_Opt, train_errors, test_errors, valdn_errors] = K_fold_cv(X_, y, cv=5)"
   ]
  },
  {
   "cell_type": "code",
   "execution_count": 74,
   "metadata": {},
   "outputs": [
    {
     "name": "stdout",
     "output_type": "stream",
     "text": [
      "The optimum values of K as found for each fold:  [9, 7, 9, 13, 13]\n"
     ]
    }
   ],
   "source": [
    "print(\"The optimum values of K as found for each fold: \",K_Opt)"
   ]
  },
  {
   "cell_type": "code",
   "execution_count": 75,
   "metadata": {},
   "outputs": [
    {
     "data": {
      "text/plain": [
       "array([8.87468566, 8.15374296, 8.75181304, 7.66924052, 8.84799661])"
      ]
     },
     "execution_count": 75,
     "metadata": {},
     "output_type": "execute_result"
    }
   ],
   "source": [
    "np.array(train_errors)"
   ]
  },
  {
   "cell_type": "code",
   "execution_count": 76,
   "metadata": {},
   "outputs": [
    {
     "data": {
      "text/plain": [
       "array([ 7.30832029,  9.88708192,  8.2894876 , 12.32612287,  7.78503714])"
      ]
     },
     "execution_count": 76,
     "metadata": {},
     "output_type": "execute_result"
    }
   ],
   "source": [
    "np.array(test_errors)"
   ]
  },
  {
   "cell_type": "code",
   "execution_count": 77,
   "metadata": {},
   "outputs": [
    {
     "data": {
      "text/plain": [
       "array([9.27812015, 8.64326735, 9.35308464, 8.32382085, 9.1629077 ])"
      ]
     },
     "execution_count": 77,
     "metadata": {},
     "output_type": "execute_result"
    }
   ],
   "source": [
    "np.array(valdn_errors)"
   ]
  },
  {
   "cell_type": "markdown",
   "metadata": {},
   "source": [
    "As  visible, scaling the data to [0,1] reduces the K_opt value but the rmse values remain almost same"
   ]
  },
  {
   "cell_type": "markdown",
   "metadata": {},
   "source": [
    "## 2(C)"
   ]
  },
  {
   "cell_type": "code",
   "execution_count": 78,
   "metadata": {},
   "outputs": [
    {
     "name": "stdout",
     "output_type": "stream",
     "text": [
      "(331, 7)\n",
      "(83, 7)\n",
      "(331,)\n",
      "(83,)\n"
     ]
    }
   ],
   "source": [
    "X_train_=X[:int(0.8*len(X))]\n",
    "X_test_=X[int(0.8*len(X)):]\n",
    "y_train_=y[:int(0.8*len(y))]\n",
    "ground_truth_=y[int(0.8*len(y)):]\n",
    "for i in [X_train_,X_test_,y_train_,ground_truth_]:\n",
    "    print(i.shape)"
   ]
  },
  {
   "cell_type": "code",
   "execution_count": 79,
   "metadata": {},
   "outputs": [],
   "source": [
    "train_error=[]\n",
    "test_error=[]\n",
    "K=range(1,50,2)\n",
    "for k in K:\n",
    "    knn = KNN(n_neighbors=k)\n",
    "    knn.fit(X_train_, y_train_)\n",
    "    y=knn.predict(X_test_)\n",
    "    y_=knn.predict(X_train_)\n",
    "    train_error.append(rmse(y_,y_train_))\n",
    "    test_error.append(rmse(y,ground_truth_))"
   ]
  },
  {
   "cell_type": "code",
   "execution_count": 80,
   "metadata": {},
   "outputs": [
    {
     "data": {
      "image/png": "[encoded data removed]",
      "text/plain": [
       "<Figure size 432x288 with 1 Axes>"
      ]
     },
     "metadata": {
      "needs_background": "light"
     },
     "output_type": "display_data"
    }
   ],
   "source": [
    "plt.plot(K,train_error,'r', label='Train Error')\n",
    "plt.plot(K, test_error, 'b', label='Test Error')\n",
    "plt.xlabel(\"K- neighbors\")\n",
    "plt.ylabel(\"train/ test error\")\n",
    "plt.legend()\n",
    "plt.show()"
   ]
  },
  {
   "cell_type": "markdown",
   "metadata": {},
   "source": [
    "The train error increases with increasing value of K, as in case of regression, the predicted value is the mean of the classes of K nearest values. Hence the no. of classes being considered increases and hence the effect of outliers increases which increase the error"
   ]
  },
  {
   "cell_type": "markdown",
   "metadata": {},
   "source": [
    "## House with maximum RMSE error for K = 5"
   ]
  },
  {
   "cell_type": "code",
   "execution_count": 84,
   "metadata": {},
   "outputs": [
    {
     "name": "stdout",
     "output_type": "stream",
     "text": [
      "The house with maximum RMSE in test set: House No.  25 RMSE=  21.5\n",
      "The house features:  [356.0, 2013.25, 3.8, 383.8624, 5.0, 24.98085, 121.54391]\n"
     ]
    }
   ],
   "source": [
    "knn=KNN(n_neighbors=5)\n",
    "knn.fit(X_train_, y_train_)\n",
    "y_pred=knn.predict(X_test_)\n",
    "rse=(y_pred-ground_trouth_)**2\n",
    "idx=list(rse).index(max(rse))\n",
    "print(\"The house with maximum RMSE in test set: House No. \", idx+1, \"RMSE= \", max(rse)**0.5)\n",
    "print(\"The house features: \", list(X_test_[idx]))"
   ]
  },
  {
   "cell_type": "code",
   "execution_count": 82,
   "metadata": {},
   "outputs": [
    {
     "data": {
      "text/html": [
       "<div>\n",
       "<style scoped>\n",
       "    .dataframe tbody tr th:only-of-type {\n",
       "        vertical-align: middle;\n",
       "    }\n",
       "\n",
       "    .dataframe tbody tr th {\n",
       "        vertical-align: top;\n",
       "    }\n",
       "\n",
       "    .dataframe thead th {\n",
       "        text-align: right;\n",
       "    }\n",
       "</style>\n",
       "<table border=\"1\" class=\"dataframe\">\n",
       "  <thead>\n",
       "    <tr style=\"text-align: right;\">\n",
       "      <th></th>\n",
       "      <th>No</th>\n",
       "      <th>X1 transaction date</th>\n",
       "      <th>X2 house age</th>\n",
       "      <th>X3 distance to the nearest MRT station</th>\n",
       "      <th>X4 number of convenience stores</th>\n",
       "      <th>X5 latitude</th>\n",
       "      <th>X6 longitude</th>\n",
       "      <th>Y house price of unit area</th>\n",
       "    </tr>\n",
       "  </thead>\n",
       "  <tbody>\n",
       "    <tr>\n",
       "      <th>100</th>\n",
       "      <td>101</td>\n",
       "      <td>2013.500000</td>\n",
       "      <td>17.5</td>\n",
       "      <td>964.7496</td>\n",
       "      <td>4</td>\n",
       "      <td>24.98872</td>\n",
       "      <td>121.53411</td>\n",
       "      <td>38.2</td>\n",
       "    </tr>\n",
       "    <tr>\n",
       "      <th>101</th>\n",
       "      <td>102</td>\n",
       "      <td>2012.833333</td>\n",
       "      <td>12.7</td>\n",
       "      <td>170.1289</td>\n",
       "      <td>1</td>\n",
       "      <td>24.97371</td>\n",
       "      <td>121.52984</td>\n",
       "      <td>32.9</td>\n",
       "    </tr>\n",
       "    <tr>\n",
       "      <th>102</th>\n",
       "      <td>103</td>\n",
       "      <td>2013.083333</td>\n",
       "      <td>1.1</td>\n",
       "      <td>193.5845</td>\n",
       "      <td>6</td>\n",
       "      <td>24.96571</td>\n",
       "      <td>121.54089</td>\n",
       "      <td>54.4</td>\n",
       "    </tr>\n",
       "    <tr>\n",
       "      <th>103</th>\n",
       "      <td>104</td>\n",
       "      <td>2012.750000</td>\n",
       "      <td>0.0</td>\n",
       "      <td>208.3905</td>\n",
       "      <td>6</td>\n",
       "      <td>24.95618</td>\n",
       "      <td>121.53844</td>\n",
       "      <td>45.7</td>\n",
       "    </tr>\n",
       "    <tr>\n",
       "      <th>104</th>\n",
       "      <td>105</td>\n",
       "      <td>2012.666667</td>\n",
       "      <td>32.7</td>\n",
       "      <td>392.4459</td>\n",
       "      <td>6</td>\n",
       "      <td>24.96398</td>\n",
       "      <td>121.54250</td>\n",
       "      <td>30.5</td>\n",
       "    </tr>\n",
       "    <tr>\n",
       "      <th>105</th>\n",
       "      <td>106</td>\n",
       "      <td>2012.833333</td>\n",
       "      <td>0.0</td>\n",
       "      <td>292.9978</td>\n",
       "      <td>6</td>\n",
       "      <td>24.97744</td>\n",
       "      <td>121.54458</td>\n",
       "      <td>71.0</td>\n",
       "    </tr>\n",
       "    <tr>\n",
       "      <th>106</th>\n",
       "      <td>107</td>\n",
       "      <td>2013.083333</td>\n",
       "      <td>17.2</td>\n",
       "      <td>189.5181</td>\n",
       "      <td>8</td>\n",
       "      <td>24.97707</td>\n",
       "      <td>121.54308</td>\n",
       "      <td>47.1</td>\n",
       "    </tr>\n",
       "    <tr>\n",
       "      <th>107</th>\n",
       "      <td>108</td>\n",
       "      <td>2013.333333</td>\n",
       "      <td>12.2</td>\n",
       "      <td>1360.1390</td>\n",
       "      <td>1</td>\n",
       "      <td>24.95204</td>\n",
       "      <td>121.54842</td>\n",
       "      <td>26.6</td>\n",
       "    </tr>\n",
       "    <tr>\n",
       "      <th>108</th>\n",
       "      <td>109</td>\n",
       "      <td>2013.416667</td>\n",
       "      <td>31.4</td>\n",
       "      <td>592.5006</td>\n",
       "      <td>2</td>\n",
       "      <td>24.97260</td>\n",
       "      <td>121.53561</td>\n",
       "      <td>34.1</td>\n",
       "    </tr>\n",
       "    <tr>\n",
       "      <th>109</th>\n",
       "      <td>110</td>\n",
       "      <td>2013.583333</td>\n",
       "      <td>4.0</td>\n",
       "      <td>2147.3760</td>\n",
       "      <td>3</td>\n",
       "      <td>24.96299</td>\n",
       "      <td>121.51284</td>\n",
       "      <td>28.4</td>\n",
       "    </tr>\n",
       "  </tbody>\n",
       "</table>\n",
       "</div>"
      ],
      "text/plain": [
       "      No  X1 transaction date  X2 house age  \\\n",
       "100  101          2013.500000          17.5   \n",
       "101  102          2012.833333          12.7   \n",
       "102  103          2013.083333           1.1   \n",
       "103  104          2012.750000           0.0   \n",
       "104  105          2012.666667          32.7   \n",
       "105  106          2012.833333           0.0   \n",
       "106  107          2013.083333          17.2   \n",
       "107  108          2013.333333          12.2   \n",
       "108  109          2013.416667          31.4   \n",
       "109  110          2013.583333           4.0   \n",
       "\n",
       "     X3 distance to the nearest MRT station  X4 number of convenience stores  \\\n",
       "100                                964.7496                                4   \n",
       "101                                170.1289                                1   \n",
       "102                                193.5845                                6   \n",
       "103                                208.3905                                6   \n",
       "104                                392.4459                                6   \n",
       "105                                292.9978                                6   \n",
       "106                                189.5181                                8   \n",
       "107                               1360.1390                                1   \n",
       "108                                592.5006                                2   \n",
       "109                               2147.3760                                3   \n",
       "\n",
       "     X5 latitude  X6 longitude  Y house price of unit area  \n",
       "100     24.98872     121.53411                        38.2  \n",
       "101     24.97371     121.52984                        32.9  \n",
       "102     24.96571     121.54089                        54.4  \n",
       "103     24.95618     121.53844                        45.7  \n",
       "104     24.96398     121.54250                        30.5  \n",
       "105     24.97744     121.54458                        71.0  \n",
       "106     24.97707     121.54308                        47.1  \n",
       "107     24.95204     121.54842                        26.6  \n",
       "108     24.97260     121.53561                        34.1  \n",
       "109     24.96299     121.51284                        28.4  "
      ]
     },
     "execution_count": 82,
     "metadata": {},
     "output_type": "execute_result"
    }
   ],
   "source": [
    "df[100:110]"
   ]
  },
  {
   "cell_type": "markdown",
   "metadata": {},
   "source": [
    "The error is probably due to the high difference in the values of house age which makes it an outlier. It can be reduced by varying the value of K or taking a subset of meaningful features or by scaling the data in the range [0,1]"
   ]
  },
  {
   "cell_type": "code",
   "execution_count": null,
   "metadata": {},
   "outputs": [],
   "source": []
  },
  {
   "cell_type": "code",
   "execution_count": null,
   "metadata": {},
   "outputs": [],
   "source": []
  }
 ],
 "metadata": {
  "kernelspec": {
   "display_name": "Python 3",
   "language": "python",
   "name": "python3"
  },
  "language_info": {
   "codemirror_mode": {
    "name": "ipython",
    "version": 3
   },
   "file_extension": ".py",
   "mimetype": "text/x-python",
   "name": "python",
   "nbconvert_exporter": "python",
   "pygments_lexer": "ipython3",
   "version": "3.5.2"
  }
 },
 "nbformat": 4,
 "nbformat_minor": 2
}
