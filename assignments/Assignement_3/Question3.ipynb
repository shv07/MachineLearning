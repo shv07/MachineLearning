{
 "cells": [
  {
   "cell_type": "markdown",
   "metadata": {},
   "source": [
    "## Q3) a-e"
   ]
  },
  {
   "cell_type": "code",
   "execution_count": 1,
   "metadata": {},
   "outputs": [],
   "source": [
    "import numpy as np\n",
    "import pandas as pd\n",
    "import matplotlib.pyplot as plt\n",
    "from sklearn.linear_model import LinearRegression\n",
    "from itertools import combinations"
   ]
  },
  {
   "cell_type": "code",
   "execution_count": 2,
   "metadata": {},
   "outputs": [
    {
     "data": {
      "text/html": [
       "<div>\n",
       "<style scoped>\n",
       "    .dataframe tbody tr th:only-of-type {\n",
       "        vertical-align: middle;\n",
       "    }\n",
       "\n",
       "    .dataframe tbody tr th {\n",
       "        vertical-align: top;\n",
       "    }\n",
       "\n",
       "    .dataframe thead th {\n",
       "        text-align: right;\n",
       "    }\n",
       "</style>\n",
       "<table border=\"1\" class=\"dataframe\">\n",
       "  <thead>\n",
       "    <tr style=\"text-align: right;\">\n",
       "      <th></th>\n",
       "      <th>No</th>\n",
       "      <th>X1 transaction date</th>\n",
       "      <th>X2 house age</th>\n",
       "      <th>X3 distance to the nearest MRT station</th>\n",
       "      <th>X4 number of convenience stores</th>\n",
       "      <th>X5 latitude</th>\n",
       "      <th>X6 longitude</th>\n",
       "      <th>Y house price of unit area</th>\n",
       "    </tr>\n",
       "  </thead>\n",
       "  <tbody>\n",
       "    <tr>\n",
       "      <th>0</th>\n",
       "      <td>1</td>\n",
       "      <td>2012.916667</td>\n",
       "      <td>32.0</td>\n",
       "      <td>84.87882</td>\n",
       "      <td>10</td>\n",
       "      <td>24.98298</td>\n",
       "      <td>121.54024</td>\n",
       "      <td>37.9</td>\n",
       "    </tr>\n",
       "    <tr>\n",
       "      <th>1</th>\n",
       "      <td>2</td>\n",
       "      <td>2012.916667</td>\n",
       "      <td>19.5</td>\n",
       "      <td>306.59470</td>\n",
       "      <td>9</td>\n",
       "      <td>24.98034</td>\n",
       "      <td>121.53951</td>\n",
       "      <td>42.2</td>\n",
       "    </tr>\n",
       "    <tr>\n",
       "      <th>2</th>\n",
       "      <td>3</td>\n",
       "      <td>2013.583333</td>\n",
       "      <td>13.3</td>\n",
       "      <td>561.98450</td>\n",
       "      <td>5</td>\n",
       "      <td>24.98746</td>\n",
       "      <td>121.54391</td>\n",
       "      <td>47.3</td>\n",
       "    </tr>\n",
       "    <tr>\n",
       "      <th>3</th>\n",
       "      <td>4</td>\n",
       "      <td>2013.500000</td>\n",
       "      <td>13.3</td>\n",
       "      <td>561.98450</td>\n",
       "      <td>5</td>\n",
       "      <td>24.98746</td>\n",
       "      <td>121.54391</td>\n",
       "      <td>54.8</td>\n",
       "    </tr>\n",
       "    <tr>\n",
       "      <th>4</th>\n",
       "      <td>5</td>\n",
       "      <td>2012.833333</td>\n",
       "      <td>5.0</td>\n",
       "      <td>390.56840</td>\n",
       "      <td>5</td>\n",
       "      <td>24.97937</td>\n",
       "      <td>121.54245</td>\n",
       "      <td>43.1</td>\n",
       "    </tr>\n",
       "    <tr>\n",
       "      <th>5</th>\n",
       "      <td>6</td>\n",
       "      <td>2012.666667</td>\n",
       "      <td>7.1</td>\n",
       "      <td>2175.03000</td>\n",
       "      <td>3</td>\n",
       "      <td>24.96305</td>\n",
       "      <td>121.51254</td>\n",
       "      <td>32.1</td>\n",
       "    </tr>\n",
       "    <tr>\n",
       "      <th>6</th>\n",
       "      <td>7</td>\n",
       "      <td>2012.666667</td>\n",
       "      <td>34.5</td>\n",
       "      <td>623.47310</td>\n",
       "      <td>7</td>\n",
       "      <td>24.97933</td>\n",
       "      <td>121.53642</td>\n",
       "      <td>40.3</td>\n",
       "    </tr>\n",
       "    <tr>\n",
       "      <th>7</th>\n",
       "      <td>8</td>\n",
       "      <td>2013.416667</td>\n",
       "      <td>20.3</td>\n",
       "      <td>287.60250</td>\n",
       "      <td>6</td>\n",
       "      <td>24.98042</td>\n",
       "      <td>121.54228</td>\n",
       "      <td>46.7</td>\n",
       "    </tr>\n",
       "    <tr>\n",
       "      <th>8</th>\n",
       "      <td>9</td>\n",
       "      <td>2013.500000</td>\n",
       "      <td>31.7</td>\n",
       "      <td>5512.03800</td>\n",
       "      <td>1</td>\n",
       "      <td>24.95095</td>\n",
       "      <td>121.48458</td>\n",
       "      <td>18.8</td>\n",
       "    </tr>\n",
       "    <tr>\n",
       "      <th>9</th>\n",
       "      <td>10</td>\n",
       "      <td>2013.416667</td>\n",
       "      <td>17.9</td>\n",
       "      <td>1783.18000</td>\n",
       "      <td>3</td>\n",
       "      <td>24.96731</td>\n",
       "      <td>121.51486</td>\n",
       "      <td>22.1</td>\n",
       "    </tr>\n",
       "  </tbody>\n",
       "</table>\n",
       "</div>"
      ],
      "text/plain": [
       "   No  X1 transaction date  X2 house age  \\\n",
       "0   1          2012.916667          32.0   \n",
       "1   2          2012.916667          19.5   \n",
       "2   3          2013.583333          13.3   \n",
       "3   4          2013.500000          13.3   \n",
       "4   5          2012.833333           5.0   \n",
       "5   6          2012.666667           7.1   \n",
       "6   7          2012.666667          34.5   \n",
       "7   8          2013.416667          20.3   \n",
       "8   9          2013.500000          31.7   \n",
       "9  10          2013.416667          17.9   \n",
       "\n",
       "   X3 distance to the nearest MRT station  X4 number of convenience stores  \\\n",
       "0                                84.87882                               10   \n",
       "1                               306.59470                                9   \n",
       "2                               561.98450                                5   \n",
       "3                               561.98450                                5   \n",
       "4                               390.56840                                5   \n",
       "5                              2175.03000                                3   \n",
       "6                               623.47310                                7   \n",
       "7                               287.60250                                6   \n",
       "8                              5512.03800                                1   \n",
       "9                              1783.18000                                3   \n",
       "\n",
       "   X5 latitude  X6 longitude  Y house price of unit area  \n",
       "0     24.98298     121.54024                        37.9  \n",
       "1     24.98034     121.53951                        42.2  \n",
       "2     24.98746     121.54391                        47.3  \n",
       "3     24.98746     121.54391                        54.8  \n",
       "4     24.97937     121.54245                        43.1  \n",
       "5     24.96305     121.51254                        32.1  \n",
       "6     24.97933     121.53642                        40.3  \n",
       "7     24.98042     121.54228                        46.7  \n",
       "8     24.95095     121.48458                        18.8  \n",
       "9     24.96731     121.51486                        22.1  "
      ]
     },
     "execution_count": 2,
     "metadata": {},
     "output_type": "execute_result"
    }
   ],
   "source": [
    "filname='Real estate valuation data set.xlsx'\n",
    "df=pd.read_excel(filname)\n",
    "df[:10]"
   ]
  },
  {
   "cell_type": "code",
   "execution_count": 3,
   "metadata": {},
   "outputs": [],
   "source": [
    "def RMS(y1,y2):\n",
    "    #calculating RMS\n",
    "    y1=np.transpose(y1)[0]\n",
    "    y2=np.transpose(y2)[0]\n",
    "    rms=(sum(((y1-y2)**2))/len(y1))**0.5\n",
    "    return rms"
   ]
  },
  {
   "cell_type": "code",
   "execution_count": 4,
   "metadata": {},
   "outputs": [
    {
     "name": "stdout",
     "output_type": "stream",
     "text": [
      "Test data RMSE: 8.218029379216116\n",
      "Train data RMSE: 9.061544403132062\n"
     ]
    }
   ],
   "source": [
    "data=np.array(df)\n",
    "train_index=np.random.choice(np.array(range(414)),290, replace=False)        #test:train=30:70=124:290\n",
    "train_set=np.array([data[i] for i in train_index])                          #random shuffling\n",
    "test_set=[]\n",
    "for i in range(414):\n",
    "    if i not in train_index:\n",
    "        test_set.append(data[i])\n",
    "test_set=np.array(test_set)\n",
    "train_X=train_set[:,1:7]\n",
    "train_Y=np.transpose(np.array([train_set[:,-1]]))\n",
    "test_X=test_set[:,1:7]\n",
    "test_Y=np.transpose([test_set[:,-1]])                                #ground_truth\n",
    "reg = LinearRegression().fit(train_X,train_Y)                        #linear regression training \n",
    "Y_pred=reg.predict(test_X)\n",
    "print('Test data RMSE:',RMS(test_Y,Y_pred))\n",
    "print('Train data RMSE:',RMS(train_Y,reg.predict(train_X)))"
   ]
  },
  {
   "cell_type": "code",
   "execution_count": 5,
   "metadata": {},
   "outputs": [
    {
     "data": {
      "text/plain": [
       "array([ 5.04960139e+00, -2.32880142e-01, -5.14215729e-03,  9.03148484e-01,\n",
       "        2.24941772e+02, -5.49527968e+01])"
      ]
     },
     "execution_count": 5,
     "metadata": {},
     "output_type": "execute_result"
    }
   ],
   "source": [
    "reg.coef_[0]     #regression coefficients"
   ]
  },
  {
   "cell_type": "code",
   "execution_count": 6,
   "metadata": {},
   "outputs": [
    {
     "data": {
      "image/png": "[encoded data removed]",
      "text/plain": [
       "<Figure size 432x288 with 1 Axes>"
      ]
     },
     "metadata": {
      "needs_background": "light"
     },
     "output_type": "display_data"
    }
   ],
   "source": [
    "plt.hist(np.transpose(test_Y-Y_pred)[0])\n",
    "plt.title(\"Distribution of residuals after normalizing the features\")\n",
    "plt.show()"
   ]
  },
  {
   "cell_type": "markdown",
   "metadata": {},
   "source": [
    "The plot is normally distributed. Hence, the frequency of residual values close to zero is high and rest is low. Hence, suggesting the model is linear"
   ]
  },
  {
   "cell_type": "code",
   "execution_count": 7,
   "metadata": {},
   "outputs": [
    {
     "name": "stdout",
     "output_type": "stream",
     "text": [
      "Test set RMSE: 8.735989423823138\n",
      "Train set RMSE: 9.061544403131945\n"
     ]
    }
   ],
   "source": [
    "#normalizing features to range [0,1]\n",
    "train_X1=train_X / train_X.max(axis=0)\n",
    "test_X1=test_X / test_X.max(axis=0)\n",
    "reg1=LinearRegression().fit(train_X1,train_Y)                        #linear regression training \n",
    "Y_pred1=reg1.predict(test_X1)\n",
    "print('Test set RMSE:',RMS(test_Y,Y_pred1))\n",
    "print('Train set RMSE:',RMS(train_Y,reg1.predict(train_X1)))"
   ]
  },
  {
   "cell_type": "code",
   "execution_count": 8,
   "metadata": {},
   "outputs": [
    {
     "data": {
      "text/plain": [
       "array([ 1.01677932e+04, -1.02001502e+01, -3.28906932e+01,  9.03148484e+00,\n",
       "        5.62682620e+03, -6.68040654e+03])"
      ]
     },
     "execution_count": 8,
     "metadata": {},
     "output_type": "execute_result"
    }
   ],
   "source": [
    "reg1.coef_[0]     #regression coefficients after normalizing"
   ]
  },
  {
   "cell_type": "code",
   "execution_count": 9,
   "metadata": {},
   "outputs": [
    {
     "data": {
      "image/png": "[encoded data removed]",
      "text/plain": [
       "<Figure size 432x288 with 1 Axes>"
      ]
     },
     "metadata": {
      "needs_background": "light"
     },
     "output_type": "display_data"
    }
   ],
   "source": [
    "plt.hist(np.transpose(test_Y-Y_pred1)[0])\n",
    "plt.title(\"Distribution of residuals after normalizing the features\")\n",
    "plt.show()"
   ]
  },
  {
   "cell_type": "markdown",
   "metadata": {},
   "source": [
    "## Feature Selection by brute force"
   ]
  },
  {
   "cell_type": "code",
   "execution_count": 10,
   "metadata": {},
   "outputs": [
    {
     "name": "stdout",
     "output_type": "stream",
     "text": [
      "opt_features:  (1, 2, 3, 4)\n",
      "rmse of best model:  8.28944278524218\n"
     ]
    }
   ],
   "source": [
    "\n",
    "feature=range(6)\n",
    "tmp_rmse=float('inf')\n",
    "opt_feature=feature    #to store the optimum features indices, initialised to all features at begining\n",
    "for i in range(1,5):\n",
    "    feature_index=list(set(combinations(feature,i)))\n",
    "    #print(feature_index)\n",
    "    #feature_index=np.transpose(np.array(feature_index))[0]\n",
    "    \n",
    "    tmp_trainX=train_X[:,feature_index[0]]\n",
    "    tmp_testX=test_X[:,feature_index[0]]\n",
    "    for j in feature_index:\n",
    "        tmp_trainX=train_X[:,j]\n",
    "        tmp_testX=test_X[:,j]\n",
    "        reg_tmp=LinearRegression().fit(tmp_trainX,train_Y)                        #linear regression training \n",
    "        Y_predtmp=reg_tmp.predict(tmp_testX)\n",
    "        rmse_new=RMS(Y_predtmp,test_Y)\n",
    "        if rmse_new<tmp_rmse:\n",
    "            tmp_rmse=rmse_new\n",
    "            opt_features=j\n",
    "print(\"opt_features: \", opt_features)\n",
    "print(\"rmse of best model: \",tmp_rmse)"
   ]
  },
  {
   "cell_type": "code",
   "execution_count": null,
   "metadata": {},
   "outputs": [],
   "source": []
  },
  {
   "cell_type": "markdown",
   "metadata": {},
   "source": [
    "## Sequential Forward Selection"
   ]
  },
  {
   "cell_type": "code",
   "execution_count": 11,
   "metadata": {},
   "outputs": [
    {
     "name": "stdout",
     "output_type": "stream",
     "text": [
      "rmse :  8.151943937431705\n",
      "Optimum Features :  [0, 1, 2, 3, 4]\n"
     ]
    }
   ],
   "source": [
    "def SeqForSel(train_X,train_Y,test_X,test_Y):\n",
    "    tmp_trainY=train_Y\n",
    "    tmp_testY=test_Y\n",
    "\n",
    "    rmse=float('inf')\n",
    "    opt_features=[]\n",
    "    tmp_trainX=np.array([[]])\n",
    "    tmp_testX=np.array([[]])\n",
    "    flag=0\n",
    "    for i in range(6):\n",
    "        if flag==1:\n",
    "            break\n",
    "        for j in range(6):\n",
    "            if j not in opt_features:\n",
    "                if len(tmp_trainX[0])==0:\n",
    "                    tmp_=np.transpose([train_X[:,j]])\n",
    "                    tmp__=np.transpose([test_X[:,j]])\n",
    "\n",
    "                else:\n",
    "                    tmp_=np.array([_ for _ in tmp_trainX])\n",
    "                    tmp_=np.insert(tmp_,0,values=train_X[:,j],axis=1)\n",
    "                    tmp__=np.array([_ for _ in tmp_testX])\n",
    "                    tmp__=np.insert(tmp__,0,values=test_X[:,j],axis=1)\n",
    "\n",
    "                reg_tmp=LinearRegression().fit(tmp_,tmp_trainY)                        #linear regression training \n",
    "                rmse_tmp=RMS(reg_tmp.predict(tmp__),tmp_testY)\n",
    "                if rmse_tmp>rmse:\n",
    "                    flag=1\n",
    "                else:\n",
    "                    flag=0\n",
    "                    opt_features.append(j)\n",
    "                    if len(tmp_trainX[0])==0:\n",
    "                        tmp_trainX=np.transpose([train_X[:,j]])\n",
    "                        tmp_testX=np.transpose([test_X[:,j]])\n",
    "\n",
    "                    else:\n",
    "                        tmp_trainX=np.insert(tmp_trainX,0,values=train_X[:,j],axis=1)\n",
    "                        tmp_testX=np.insert(tmp_testX,0,values=test_X[:,j],axis=1)\n",
    "                    rmse=rmse_tmp\n",
    "    print(\"rmse : \",rmse)\n",
    "    print(\"Optimum Features : \",opt_features)\n",
    "SeqForSel(train_X,train_Y,test_X,test_Y)"
   ]
  },
  {
   "cell_type": "code",
   "execution_count": null,
   "metadata": {},
   "outputs": [],
   "source": []
  },
  {
   "cell_type": "code",
   "execution_count": null,
   "metadata": {},
   "outputs": [],
   "source": []
  },
  {
   "cell_type": "code",
   "execution_count": null,
   "metadata": {},
   "outputs": [],
   "source": []
  }
 ],
 "metadata": {
  "kernelspec": {
   "display_name": "Python 3",
   "language": "python",
   "name": "python3"
  },
  "language_info": {
   "codemirror_mode": {
    "name": "ipython",
    "version": 3
   },
   "file_extension": ".py",
   "mimetype": "text/x-python",
   "name": "python",
   "nbconvert_exporter": "python",
   "pygments_lexer": "ipython3",
   "version": "3.5.2"
  }
 },
 "nbformat": 4,
 "nbformat_minor": 2
}
